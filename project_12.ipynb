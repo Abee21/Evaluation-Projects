{
  "nbformat": 4,
  "nbformat_minor": 0,
  "metadata": {
    "colab": {
      "name": "project 12.ipynb",
      "provenance": []
    },
    "kernelspec": {
      "name": "python3",
      "display_name": "Python 3"
    }
  },
  "cells": [
    {
      "cell_type": "code",
      "metadata": {
        "id": "d6LaxF43wz_R",
        "colab_type": "code",
        "colab": {}
      },
      "source": [
        "import pandas as pd\n",
        "import numpy as np\n",
        "import seaborn as sns \n",
        "import matplotlib.pyplot as plt "
      ],
      "execution_count": 109,
      "outputs": []
    },
    {
      "cell_type": "code",
      "metadata": {
        "id": "HSPNMnYixoQP",
        "colab_type": "code",
        "colab": {}
      },
      "source": [
        "df_train=pd.read_excel(\"/content/Data_Train.xlsx\")\n",
        "df_test=pd.read_excel('/content/Test_set.xlsx')"
      ],
      "execution_count": 110,
      "outputs": []
    },
    {
      "cell_type": "code",
      "metadata": {
        "id": "ndrPgkyHxq2C",
        "colab_type": "code",
        "colab": {
          "base_uri": "https://localhost:8080/",
          "height": 202
        },
        "outputId": "afdcb2be-2c67-485c-caf7-e81662ce12a4"
      },
      "source": [
        "df_train.head()"
      ],
      "execution_count": 111,
      "outputs": [
        {
          "output_type": "execute_result",
          "data": {
            "text/html": [
              "<div>\n",
              "<style scoped>\n",
              "    .dataframe tbody tr th:only-of-type {\n",
              "        vertical-align: middle;\n",
              "    }\n",
              "\n",
              "    .dataframe tbody tr th {\n",
              "        vertical-align: top;\n",
              "    }\n",
              "\n",
              "    .dataframe thead th {\n",
              "        text-align: right;\n",
              "    }\n",
              "</style>\n",
              "<table border=\"1\" class=\"dataframe\">\n",
              "  <thead>\n",
              "    <tr style=\"text-align: right;\">\n",
              "      <th></th>\n",
              "      <th>Airline</th>\n",
              "      <th>Date_of_Journey</th>\n",
              "      <th>Source</th>\n",
              "      <th>Destination</th>\n",
              "      <th>Route</th>\n",
              "      <th>Dep_Time</th>\n",
              "      <th>Arrival_Time</th>\n",
              "      <th>Duration</th>\n",
              "      <th>Total_Stops</th>\n",
              "      <th>Additional_Info</th>\n",
              "      <th>Price</th>\n",
              "    </tr>\n",
              "  </thead>\n",
              "  <tbody>\n",
              "    <tr>\n",
              "      <th>0</th>\n",
              "      <td>IndiGo</td>\n",
              "      <td>24/03/2019</td>\n",
              "      <td>Banglore</td>\n",
              "      <td>New Delhi</td>\n",
              "      <td>BLR → DEL</td>\n",
              "      <td>22:20</td>\n",
              "      <td>01:10 22 Mar</td>\n",
              "      <td>2h 50m</td>\n",
              "      <td>non-stop</td>\n",
              "      <td>No info</td>\n",
              "      <td>3897</td>\n",
              "    </tr>\n",
              "    <tr>\n",
              "      <th>1</th>\n",
              "      <td>Air India</td>\n",
              "      <td>1/05/2019</td>\n",
              "      <td>Kolkata</td>\n",
              "      <td>Banglore</td>\n",
              "      <td>CCU → IXR → BBI → BLR</td>\n",
              "      <td>05:50</td>\n",
              "      <td>13:15</td>\n",
              "      <td>7h 25m</td>\n",
              "      <td>2 stops</td>\n",
              "      <td>No info</td>\n",
              "      <td>7662</td>\n",
              "    </tr>\n",
              "    <tr>\n",
              "      <th>2</th>\n",
              "      <td>Jet Airways</td>\n",
              "      <td>9/06/2019</td>\n",
              "      <td>Delhi</td>\n",
              "      <td>Cochin</td>\n",
              "      <td>DEL → LKO → BOM → COK</td>\n",
              "      <td>09:25</td>\n",
              "      <td>04:25 10 Jun</td>\n",
              "      <td>19h</td>\n",
              "      <td>2 stops</td>\n",
              "      <td>No info</td>\n",
              "      <td>13882</td>\n",
              "    </tr>\n",
              "    <tr>\n",
              "      <th>3</th>\n",
              "      <td>IndiGo</td>\n",
              "      <td>12/05/2019</td>\n",
              "      <td>Kolkata</td>\n",
              "      <td>Banglore</td>\n",
              "      <td>CCU → NAG → BLR</td>\n",
              "      <td>18:05</td>\n",
              "      <td>23:30</td>\n",
              "      <td>5h 25m</td>\n",
              "      <td>1 stop</td>\n",
              "      <td>No info</td>\n",
              "      <td>6218</td>\n",
              "    </tr>\n",
              "    <tr>\n",
              "      <th>4</th>\n",
              "      <td>IndiGo</td>\n",
              "      <td>01/03/2019</td>\n",
              "      <td>Banglore</td>\n",
              "      <td>New Delhi</td>\n",
              "      <td>BLR → NAG → DEL</td>\n",
              "      <td>16:50</td>\n",
              "      <td>21:35</td>\n",
              "      <td>4h 45m</td>\n",
              "      <td>1 stop</td>\n",
              "      <td>No info</td>\n",
              "      <td>13302</td>\n",
              "    </tr>\n",
              "  </tbody>\n",
              "</table>\n",
              "</div>"
            ],
            "text/plain": [
              "       Airline Date_of_Journey    Source  ... Total_Stops Additional_Info  Price\n",
              "0       IndiGo      24/03/2019  Banglore  ...    non-stop         No info   3897\n",
              "1    Air India       1/05/2019   Kolkata  ...     2 stops         No info   7662\n",
              "2  Jet Airways       9/06/2019     Delhi  ...     2 stops         No info  13882\n",
              "3       IndiGo      12/05/2019   Kolkata  ...      1 stop         No info   6218\n",
              "4       IndiGo      01/03/2019  Banglore  ...      1 stop         No info  13302\n",
              "\n",
              "[5 rows x 11 columns]"
            ]
          },
          "metadata": {
            "tags": []
          },
          "execution_count": 111
        }
      ]
    },
    {
      "cell_type": "code",
      "metadata": {
        "id": "ttMSnid2x4SS",
        "colab_type": "code",
        "colab": {
          "base_uri": "https://localhost:8080/",
          "height": 34
        },
        "outputId": "75cd0162-b4fe-4f90-ed99-23b05b7d7615"
      },
      "source": [
        "df_train.shape"
      ],
      "execution_count": 112,
      "outputs": [
        {
          "output_type": "execute_result",
          "data": {
            "text/plain": [
              "(10683, 11)"
            ]
          },
          "metadata": {
            "tags": []
          },
          "execution_count": 112
        }
      ]
    },
    {
      "cell_type": "code",
      "metadata": {
        "id": "myBtecuIx6n0",
        "colab_type": "code",
        "colab": {
          "base_uri": "https://localhost:8080/",
          "height": 225
        },
        "outputId": "3b5860ba-004c-46f1-a844-d2e49440a347"
      },
      "source": [
        "df_train.isnull().sum()"
      ],
      "execution_count": 113,
      "outputs": [
        {
          "output_type": "execute_result",
          "data": {
            "text/plain": [
              "Airline            0\n",
              "Date_of_Journey    0\n",
              "Source             0\n",
              "Destination        0\n",
              "Route              1\n",
              "Dep_Time           0\n",
              "Arrival_Time       0\n",
              "Duration           0\n",
              "Total_Stops        1\n",
              "Additional_Info    0\n",
              "Price              0\n",
              "dtype: int64"
            ]
          },
          "metadata": {
            "tags": []
          },
          "execution_count": 113
        }
      ]
    },
    {
      "cell_type": "code",
      "metadata": {
        "id": "XVhzGQTQyrcq",
        "colab_type": "code",
        "colab": {
          "base_uri": "https://localhost:8080/",
          "height": 208
        },
        "outputId": "91c4fdd3-6087-464f-ec56-d985e23fe545"
      },
      "source": [
        "df_test.isnull().sum()"
      ],
      "execution_count": 114,
      "outputs": [
        {
          "output_type": "execute_result",
          "data": {
            "text/plain": [
              "Airline            0\n",
              "Date_of_Journey    0\n",
              "Source             0\n",
              "Destination        0\n",
              "Route              0\n",
              "Dep_Time           0\n",
              "Arrival_Time       0\n",
              "Duration           0\n",
              "Total_Stops        0\n",
              "Additional_Info    0\n",
              "dtype: int64"
            ]
          },
          "metadata": {
            "tags": []
          },
          "execution_count": 114
        }
      ]
    },
    {
      "cell_type": "code",
      "metadata": {
        "id": "NEEvAsDXyv3M",
        "colab_type": "code",
        "colab": {}
      },
      "source": [
        "df_train.dropna(inplace=True)\n"
      ],
      "execution_count": 115,
      "outputs": []
    },
    {
      "cell_type": "code",
      "metadata": {
        "id": "110DSl94-EBz",
        "colab_type": "code",
        "colab": {
          "base_uri": "https://localhost:8080/",
          "height": 452
        },
        "outputId": "1a67e076-4f42-4d98-c3f0-928153c7bc53"
      },
      "source": [
        "# JetAirways is mostly used.\n",
        "df_train['Airline'].value_counts().plot(kind='bar')"
      ],
      "execution_count": 116,
      "outputs": [
        {
          "output_type": "execute_result",
          "data": {
            "text/plain": [
              "<matplotlib.axes._subplots.AxesSubplot at 0x7f97d9776278>"
            ]
          },
          "metadata": {
            "tags": []
          },
          "execution_count": 116
        },
        {
          "output_type": "display_data",
          "data": {
            "image/png": "[encoded data removed]",
            "text/plain": [
              "<Figure size 432x288 with 1 Axes>"
            ]
          },
          "metadata": {
            "tags": [],
            "needs_background": "light"
          }
        }
      ]
    },
    {
      "cell_type": "code",
      "metadata": {
        "id": "qrIgcL7J-TQe",
        "colab_type": "code",
        "colab": {
          "base_uri": "https://localhost:8080/",
          "height": 328
        },
        "outputId": "d2f74d97-8b78-4df0-ecd7-da9ee21a490a"
      },
      "source": [
        "# Chochine is the most frequent Destination in datasets.\n",
        "df_train['Destination'].value_counts().plot(kind='bar')"
      ],
      "execution_count": 117,
      "outputs": [
        {
          "output_type": "execute_result",
          "data": {
            "text/plain": [
              "<matplotlib.axes._subplots.AxesSubplot at 0x7f97d961c470>"
            ]
          },
          "metadata": {
            "tags": []
          },
          "execution_count": 117
        },
        {
          "output_type": "display_data",
          "data": {
            "image/png": "[encoded data removed]",
            "text/plain": [
              "<Figure size 432x288 with 1 Axes>"
            ]
          },
          "metadata": {
            "tags": [],
            "needs_background": "light"
          }
        }
      ]
    },
    {
      "cell_type": "code",
      "metadata": {
        "id": "lDCVWp13-czJ",
        "colab_type": "code",
        "colab": {
          "base_uri": "https://localhost:8080/",
          "height": 317
        },
        "outputId": "58c05b8e-4075-4fbf-f836-5801f782f41a"
      },
      "source": [
        "# Delhi is the most frequent source in data.\n",
        "df_train['Source'].value_counts().plot(kind='bar')"
      ],
      "execution_count": 118,
      "outputs": [
        {
          "output_type": "execute_result",
          "data": {
            "text/plain": [
              "<matplotlib.axes._subplots.AxesSubplot at 0x7f97d6f48978>"
            ]
          },
          "metadata": {
            "tags": []
          },
          "execution_count": 118
        },
        {
          "output_type": "display_data",
          "data": {
            "image/png": "[encoded data removed]",
            "text/plain": [
              "<Figure size 432x288 with 1 Axes>"
            ]
          },
          "metadata": {
            "tags": [],
            "needs_background": "light"
          }
        }
      ]
    },
    {
      "cell_type": "code",
      "metadata": {
        "id": "Uvq41sCt_aG3",
        "colab_type": "code",
        "colab": {
          "base_uri": "https://localhost:8080/",
          "height": 478
        },
        "outputId": "0d44a369-c8d6-4cbe-f469-53eeea90d905"
      },
      "source": [
        "# flights with stops \n",
        "flight_stops=pd.crosstab(df_train.Airline, df_train.Total_Stops, margins=True)\n",
        "flight_stops"
      ],
      "execution_count": 119,
      "outputs": [
        {
          "output_type": "execute_result",
          "data": {
            "text/html": [
              "<div>\n",
              "<style scoped>\n",
              "    .dataframe tbody tr th:only-of-type {\n",
              "        vertical-align: middle;\n",
              "    }\n",
              "\n",
              "    .dataframe tbody tr th {\n",
              "        vertical-align: top;\n",
              "    }\n",
              "\n",
              "    .dataframe thead th {\n",
              "        text-align: right;\n",
              "    }\n",
              "</style>\n",
              "<table border=\"1\" class=\"dataframe\">\n",
              "  <thead>\n",
              "    <tr style=\"text-align: right;\">\n",
              "      <th>Total_Stops</th>\n",
              "      <th>1 stop</th>\n",
              "      <th>2 stops</th>\n",
              "      <th>3 stops</th>\n",
              "      <th>4 stops</th>\n",
              "      <th>non-stop</th>\n",
              "      <th>All</th>\n",
              "    </tr>\n",
              "    <tr>\n",
              "      <th>Airline</th>\n",
              "      <th></th>\n",
              "      <th></th>\n",
              "      <th></th>\n",
              "      <th></th>\n",
              "      <th></th>\n",
              "      <th></th>\n",
              "    </tr>\n",
              "  </thead>\n",
              "  <tbody>\n",
              "    <tr>\n",
              "      <th>Air Asia</th>\n",
              "      <td>129</td>\n",
              "      <td>9</td>\n",
              "      <td>0</td>\n",
              "      <td>0</td>\n",
              "      <td>181</td>\n",
              "      <td>319</td>\n",
              "    </tr>\n",
              "    <tr>\n",
              "      <th>Air India</th>\n",
              "      <td>540</td>\n",
              "      <td>756</td>\n",
              "      <td>37</td>\n",
              "      <td>1</td>\n",
              "      <td>417</td>\n",
              "      <td>1751</td>\n",
              "    </tr>\n",
              "    <tr>\n",
              "      <th>GoAir</th>\n",
              "      <td>102</td>\n",
              "      <td>0</td>\n",
              "      <td>0</td>\n",
              "      <td>0</td>\n",
              "      <td>92</td>\n",
              "      <td>194</td>\n",
              "    </tr>\n",
              "    <tr>\n",
              "      <th>IndiGo</th>\n",
              "      <td>793</td>\n",
              "      <td>19</td>\n",
              "      <td>0</td>\n",
              "      <td>0</td>\n",
              "      <td>1241</td>\n",
              "      <td>2053</td>\n",
              "    </tr>\n",
              "    <tr>\n",
              "      <th>Jet Airways</th>\n",
              "      <td>2535</td>\n",
              "      <td>691</td>\n",
              "      <td>0</td>\n",
              "      <td>0</td>\n",
              "      <td>623</td>\n",
              "      <td>3849</td>\n",
              "    </tr>\n",
              "    <tr>\n",
              "      <th>Jet Airways Business</th>\n",
              "      <td>4</td>\n",
              "      <td>2</td>\n",
              "      <td>0</td>\n",
              "      <td>0</td>\n",
              "      <td>0</td>\n",
              "      <td>6</td>\n",
              "    </tr>\n",
              "    <tr>\n",
              "      <th>Multiple carriers</th>\n",
              "      <td>1145</td>\n",
              "      <td>43</td>\n",
              "      <td>8</td>\n",
              "      <td>0</td>\n",
              "      <td>0</td>\n",
              "      <td>1196</td>\n",
              "    </tr>\n",
              "    <tr>\n",
              "      <th>Multiple carriers Premium economy</th>\n",
              "      <td>13</td>\n",
              "      <td>0</td>\n",
              "      <td>0</td>\n",
              "      <td>0</td>\n",
              "      <td>0</td>\n",
              "      <td>13</td>\n",
              "    </tr>\n",
              "    <tr>\n",
              "      <th>SpiceJet</th>\n",
              "      <td>148</td>\n",
              "      <td>0</td>\n",
              "      <td>0</td>\n",
              "      <td>0</td>\n",
              "      <td>670</td>\n",
              "      <td>818</td>\n",
              "    </tr>\n",
              "    <tr>\n",
              "      <th>Trujet</th>\n",
              "      <td>1</td>\n",
              "      <td>0</td>\n",
              "      <td>0</td>\n",
              "      <td>0</td>\n",
              "      <td>0</td>\n",
              "      <td>1</td>\n",
              "    </tr>\n",
              "    <tr>\n",
              "      <th>Vistara</th>\n",
              "      <td>215</td>\n",
              "      <td>0</td>\n",
              "      <td>0</td>\n",
              "      <td>0</td>\n",
              "      <td>264</td>\n",
              "      <td>479</td>\n",
              "    </tr>\n",
              "    <tr>\n",
              "      <th>Vistara Premium economy</th>\n",
              "      <td>0</td>\n",
              "      <td>0</td>\n",
              "      <td>0</td>\n",
              "      <td>0</td>\n",
              "      <td>3</td>\n",
              "      <td>3</td>\n",
              "    </tr>\n",
              "    <tr>\n",
              "      <th>All</th>\n",
              "      <td>5625</td>\n",
              "      <td>1520</td>\n",
              "      <td>45</td>\n",
              "      <td>1</td>\n",
              "      <td>3491</td>\n",
              "      <td>10682</td>\n",
              "    </tr>\n",
              "  </tbody>\n",
              "</table>\n",
              "</div>"
            ],
            "text/plain": [
              "Total_Stops                        1 stop  2 stops  ...  non-stop    All\n",
              "Airline                                             ...                 \n",
              "Air Asia                              129        9  ...       181    319\n",
              "Air India                             540      756  ...       417   1751\n",
              "GoAir                                 102        0  ...        92    194\n",
              "IndiGo                                793       19  ...      1241   2053\n",
              "Jet Airways                          2535      691  ...       623   3849\n",
              "Jet Airways Business                    4        2  ...         0      6\n",
              "Multiple carriers                    1145       43  ...         0   1196\n",
              "Multiple carriers Premium economy      13        0  ...         0     13\n",
              "SpiceJet                              148        0  ...       670    818\n",
              "Trujet                                  1        0  ...         0      1\n",
              "Vistara                               215        0  ...       264    479\n",
              "Vistara Premium economy                 0        0  ...         3      3\n",
              "All                                  5625     1520  ...      3491  10682\n",
              "\n",
              "[13 rows x 6 columns]"
            ]
          },
          "metadata": {
            "tags": []
          },
          "execution_count": 119
        }
      ]
    },
    {
      "cell_type": "code",
      "metadata": {
        "id": "tj7stefeDLuT",
        "colab_type": "code",
        "colab": {
          "base_uri": "https://localhost:8080/",
          "height": 446
        },
        "outputId": "a31b60eb-91c0-479a-9a2b-9a787ca822b2"
      },
      "source": [
        "pd.crosstab(df_train.Duration,df_train.Airline, margins=True)"
      ],
      "execution_count": 120,
      "outputs": [
        {
          "output_type": "execute_result",
          "data": {
            "text/html": [
              "<div>\n",
              "<style scoped>\n",
              "    .dataframe tbody tr th:only-of-type {\n",
              "        vertical-align: middle;\n",
              "    }\n",
              "\n",
              "    .dataframe tbody tr th {\n",
              "        vertical-align: top;\n",
              "    }\n",
              "\n",
              "    .dataframe thead th {\n",
              "        text-align: right;\n",
              "    }\n",
              "</style>\n",
              "<table border=\"1\" class=\"dataframe\">\n",
              "  <thead>\n",
              "    <tr style=\"text-align: right;\">\n",
              "      <th>Airline</th>\n",
              "      <th>Air Asia</th>\n",
              "      <th>Air India</th>\n",
              "      <th>GoAir</th>\n",
              "      <th>IndiGo</th>\n",
              "      <th>Jet Airways</th>\n",
              "      <th>Jet Airways Business</th>\n",
              "      <th>Multiple carriers</th>\n",
              "      <th>Multiple carriers Premium economy</th>\n",
              "      <th>SpiceJet</th>\n",
              "      <th>Trujet</th>\n",
              "      <th>Vistara</th>\n",
              "      <th>Vistara Premium economy</th>\n",
              "      <th>All</th>\n",
              "    </tr>\n",
              "    <tr>\n",
              "      <th>Duration</th>\n",
              "      <th></th>\n",
              "      <th></th>\n",
              "      <th></th>\n",
              "      <th></th>\n",
              "      <th></th>\n",
              "      <th></th>\n",
              "      <th></th>\n",
              "      <th></th>\n",
              "      <th></th>\n",
              "      <th></th>\n",
              "      <th></th>\n",
              "      <th></th>\n",
              "      <th></th>\n",
              "    </tr>\n",
              "  </thead>\n",
              "  <tbody>\n",
              "    <tr>\n",
              "      <th>10h</th>\n",
              "      <td>0</td>\n",
              "      <td>1</td>\n",
              "      <td>0</td>\n",
              "      <td>0</td>\n",
              "      <td>24</td>\n",
              "      <td>0</td>\n",
              "      <td>24</td>\n",
              "      <td>0</td>\n",
              "      <td>0</td>\n",
              "      <td>0</td>\n",
              "      <td>0</td>\n",
              "      <td>0</td>\n",
              "      <td>49</td>\n",
              "    </tr>\n",
              "    <tr>\n",
              "      <th>10h 10m</th>\n",
              "      <td>0</td>\n",
              "      <td>3</td>\n",
              "      <td>0</td>\n",
              "      <td>0</td>\n",
              "      <td>18</td>\n",
              "      <td>0</td>\n",
              "      <td>2</td>\n",
              "      <td>0</td>\n",
              "      <td>0</td>\n",
              "      <td>0</td>\n",
              "      <td>0</td>\n",
              "      <td>0</td>\n",
              "      <td>23</td>\n",
              "    </tr>\n",
              "    <tr>\n",
              "      <th>10h 15m</th>\n",
              "      <td>0</td>\n",
              "      <td>13</td>\n",
              "      <td>0</td>\n",
              "      <td>2</td>\n",
              "      <td>5</td>\n",
              "      <td>0</td>\n",
              "      <td>30</td>\n",
              "      <td>0</td>\n",
              "      <td>0</td>\n",
              "      <td>0</td>\n",
              "      <td>0</td>\n",
              "      <td>0</td>\n",
              "      <td>50</td>\n",
              "    </tr>\n",
              "    <tr>\n",
              "      <th>10h 20m</th>\n",
              "      <td>0</td>\n",
              "      <td>0</td>\n",
              "      <td>0</td>\n",
              "      <td>0</td>\n",
              "      <td>23</td>\n",
              "      <td>0</td>\n",
              "      <td>5</td>\n",
              "      <td>1</td>\n",
              "      <td>0</td>\n",
              "      <td>0</td>\n",
              "      <td>0</td>\n",
              "      <td>0</td>\n",
              "      <td>29</td>\n",
              "    </tr>\n",
              "    <tr>\n",
              "      <th>10h 25m</th>\n",
              "      <td>11</td>\n",
              "      <td>6</td>\n",
              "      <td>0</td>\n",
              "      <td>11</td>\n",
              "      <td>8</td>\n",
              "      <td>0</td>\n",
              "      <td>13</td>\n",
              "      <td>0</td>\n",
              "      <td>0</td>\n",
              "      <td>0</td>\n",
              "      <td>0</td>\n",
              "      <td>0</td>\n",
              "      <td>49</td>\n",
              "    </tr>\n",
              "    <tr>\n",
              "      <th>...</th>\n",
              "      <td>...</td>\n",
              "      <td>...</td>\n",
              "      <td>...</td>\n",
              "      <td>...</td>\n",
              "      <td>...</td>\n",
              "      <td>...</td>\n",
              "      <td>...</td>\n",
              "      <td>...</td>\n",
              "      <td>...</td>\n",
              "      <td>...</td>\n",
              "      <td>...</td>\n",
              "      <td>...</td>\n",
              "      <td>...</td>\n",
              "    </tr>\n",
              "    <tr>\n",
              "      <th>9h 45m</th>\n",
              "      <td>0</td>\n",
              "      <td>0</td>\n",
              "      <td>0</td>\n",
              "      <td>0</td>\n",
              "      <td>20</td>\n",
              "      <td>0</td>\n",
              "      <td>8</td>\n",
              "      <td>0</td>\n",
              "      <td>0</td>\n",
              "      <td>0</td>\n",
              "      <td>0</td>\n",
              "      <td>0</td>\n",
              "      <td>28</td>\n",
              "    </tr>\n",
              "    <tr>\n",
              "      <th>9h 50m</th>\n",
              "      <td>2</td>\n",
              "      <td>9</td>\n",
              "      <td>0</td>\n",
              "      <td>0</td>\n",
              "      <td>51</td>\n",
              "      <td>0</td>\n",
              "      <td>2</td>\n",
              "      <td>0</td>\n",
              "      <td>0</td>\n",
              "      <td>0</td>\n",
              "      <td>0</td>\n",
              "      <td>0</td>\n",
              "      <td>64</td>\n",
              "    </tr>\n",
              "    <tr>\n",
              "      <th>9h 55m</th>\n",
              "      <td>0</td>\n",
              "      <td>0</td>\n",
              "      <td>0</td>\n",
              "      <td>0</td>\n",
              "      <td>0</td>\n",
              "      <td>0</td>\n",
              "      <td>2</td>\n",
              "      <td>0</td>\n",
              "      <td>0</td>\n",
              "      <td>0</td>\n",
              "      <td>0</td>\n",
              "      <td>0</td>\n",
              "      <td>2</td>\n",
              "    </tr>\n",
              "    <tr>\n",
              "      <th>9h 5m</th>\n",
              "      <td>0</td>\n",
              "      <td>13</td>\n",
              "      <td>0</td>\n",
              "      <td>0</td>\n",
              "      <td>0</td>\n",
              "      <td>0</td>\n",
              "      <td>16</td>\n",
              "      <td>0</td>\n",
              "      <td>0</td>\n",
              "      <td>0</td>\n",
              "      <td>0</td>\n",
              "      <td>0</td>\n",
              "      <td>29</td>\n",
              "    </tr>\n",
              "    <tr>\n",
              "      <th>All</th>\n",
              "      <td>319</td>\n",
              "      <td>1751</td>\n",
              "      <td>194</td>\n",
              "      <td>2053</td>\n",
              "      <td>3849</td>\n",
              "      <td>6</td>\n",
              "      <td>1196</td>\n",
              "      <td>13</td>\n",
              "      <td>818</td>\n",
              "      <td>1</td>\n",
              "      <td>479</td>\n",
              "      <td>3</td>\n",
              "      <td>10682</td>\n",
              "    </tr>\n",
              "  </tbody>\n",
              "</table>\n",
              "<p>369 rows × 13 columns</p>\n",
              "</div>"
            ],
            "text/plain": [
              "Airline   Air Asia  Air India  GoAir  ...  Vistara  Vistara Premium economy    All\n",
              "Duration                              ...                                         \n",
              "10h              0          1      0  ...        0                        0     49\n",
              "10h 10m          0          3      0  ...        0                        0     23\n",
              "10h 15m          0         13      0  ...        0                        0     50\n",
              "10h 20m          0          0      0  ...        0                        0     29\n",
              "10h 25m         11          6      0  ...        0                        0     49\n",
              "...            ...        ...    ...  ...      ...                      ...    ...\n",
              "9h 45m           0          0      0  ...        0                        0     28\n",
              "9h 50m           2          9      0  ...        0                        0     64\n",
              "9h 55m           0          0      0  ...        0                        0      2\n",
              "9h 5m            0         13      0  ...        0                        0     29\n",
              "All            319       1751    194  ...      479                        3  10682\n",
              "\n",
              "[369 rows x 13 columns]"
            ]
          },
          "metadata": {
            "tags": []
          },
          "execution_count": 120
        }
      ]
    },
    {
      "cell_type": "code",
      "metadata": {
        "id": "qYi-ebiNEKO5",
        "colab_type": "code",
        "colab": {
          "base_uri": "https://localhost:8080/",
          "height": 296
        },
        "outputId": "9072825f-329c-4d82-8e68-21095c29383f"
      },
      "source": [
        "sns.countplot(x='Airline',hue='Destination',data=df_train)"
      ],
      "execution_count": 121,
      "outputs": [
        {
          "output_type": "execute_result",
          "data": {
            "text/plain": [
              "<matplotlib.axes._subplots.AxesSubplot at 0x7f97d9325710>"
            ]
          },
          "metadata": {
            "tags": []
          },
          "execution_count": 121
        },
        {
          "output_type": "display_data",
          "data": {
            "image/png": "[encoded data removed]",
            "text/plain": [
              "<Figure size 432x288 with 1 Axes>"
            ]
          },
          "metadata": {
            "tags": [],
            "needs_background": "light"
          }
        }
      ]
    },
    {
      "cell_type": "code",
      "metadata": {
        "id": "fQFsng0dFbIE",
        "colab_type": "code",
        "colab": {
          "base_uri": "https://localhost:8080/",
          "height": 228
        },
        "outputId": "1228394d-afb7-431f-d420-f1636ef64e63"
      },
      "source": [
        " sns.pairplot(df_train, diag_kind='kde', plot_kws={'alpha': 0.2})"
      ],
      "execution_count": 122,
      "outputs": [
        {
          "output_type": "execute_result",
          "data": {
            "text/plain": [
              "<seaborn.axisgrid.PairGrid at 0x7f97d61f4e10>"
            ]
          },
          "metadata": {
            "tags": []
          },
          "execution_count": 122
        },
        {
          "output_type": "display_data",
          "data": {
            "image/png": "[encoded data removed]",
            "text/plain": [
              "<Figure size 180x180 with 2 Axes>"
            ]
          },
          "metadata": {
            "tags": [],
            "needs_background": "light"
          }
        }
      ]
    },
    {
      "cell_type": "code",
      "metadata": {
        "id": "DhLjpZxKy4v7",
        "colab_type": "code",
        "colab": {}
      },
      "source": [
        "df_train['Duration']=  df_train['Duration'].str.replace(\"h\", '*60').str.replace(' ','+').str.replace('m','*1').apply(eval)\n",
        "df_test['Duration']=  df_test['Duration'].str.replace(\"h\", '*60').str.replace(' ','+').str.replace('m','*1').apply(eval)"
      ],
      "execution_count": 124,
      "outputs": []
    },
    {
      "cell_type": "code",
      "metadata": {
        "id": "QaKQOoTSzFjj",
        "colab_type": "code",
        "colab": {}
      },
      "source": [
        "# changing train data into date time \n",
        "df_train[\"Dep_hour\"] = pd.to_datetime(df_train[\"Dep_Time\"]).dt.hour\n",
        "df_train[\"Dep_min\"] = pd.to_datetime(df_train[\"Dep_Time\"]).dt.minute\n",
        "df_train.drop([\"Dep_Time\"], axis = 1, inplace = True)\n",
        "df_train[\"Arrival_hour\"] = pd.to_datetime(df_train.Arrival_Time).dt.hour\n",
        "df_train[\"Arrival_min\"] = pd.to_datetime(df_train.Arrival_Time).dt.minute\n",
        "df_train.drop([\"Arrival_Time\"], axis = 1, inplace = True)\n"
      ],
      "execution_count": 125,
      "outputs": []
    },
    {
      "cell_type": "code",
      "metadata": {
        "id": "WfJHdgXazRne",
        "colab_type": "code",
        "colab": {}
      },
      "source": [
        "# changing test datasets into datetime \n",
        "df_test[\"Journey_day\"] = df_test['Date_of_Journey'].str.split('/').str[0].astype(int)\n",
        "df_test[\"Journey_month\"] = df_test['Date_of_Journey'].str.split('/').str[1].astype(int)\n",
        "df_test.drop([\"Date_of_Journey\"], axis = 1, inplace = True)\n",
        "df_test[\"Dep_hour\"] = pd.to_datetime(df_test[\"Dep_Time\"]).dt.hour\n",
        "df_test[\"Dep_min\"] = pd.to_datetime(df_test[\"Dep_Time\"]).dt.minute\n",
        "df_test.drop([\"Dep_Time\"], axis = 1, inplace = True)\n",
        "df_test[\"Arrival_hour\"] = pd.to_datetime(df_test.Arrival_Time).dt.hour\n",
        "df_test[\"Arrival_min\"] = pd.to_datetime(df_test.Arrival_Time).dt.minute\n",
        "df_test.drop([\"Arrival_Time\"], axis = 1, inplace = True)"
      ],
      "execution_count": 126,
      "outputs": []
    },
    {
      "cell_type": "code",
      "metadata": {
        "id": "GHEBoianzw87",
        "colab_type": "code",
        "colab": {}
      },
      "source": [
        "df_train[\"Additional_Info\"] =df_train[\"Additional_Info\"].replace({'No Info': 'No info'})\n",
        "data = df_train.drop([\"Price\"], axis=1)"
      ],
      "execution_count": 127,
      "outputs": []
    },
    {
      "cell_type": "code",
      "metadata": {
        "id": "rHbxXpTT0Vur",
        "colab_type": "code",
        "colab": {}
      },
      "source": [
        "# \n",
        "from sklearn.preprocessing import LabelEncoder\n",
        "labelencoder=LabelEncoder()\n",
        "for column in df_train.columns:\n",
        "    df_train[column] = labelencoder.fit_transform(df_train[column])\n",
        "\n",
        "for column in df_test.columns:\n",
        "    df_test[column] = labelencoder.fit_transform(df_test[column])\n"
      ],
      "execution_count": 128,
      "outputs": []
    },
    {
      "cell_type": "code",
      "metadata": {
        "id": "uYY1U8vy00-S",
        "colab_type": "code",
        "colab": {}
      },
      "source": [
        "x=df_train\n",
        "y=df_train['Price']"
      ],
      "execution_count": 129,
      "outputs": []
    },
    {
      "cell_type": "code",
      "metadata": {
        "id": "FfsczvHI1SBu",
        "colab_type": "code",
        "colab": {
          "base_uri": "https://localhost:8080/",
          "height": 450
        },
        "outputId": "a9975163-8996-4ff2-8311-16e7b9cc13a9"
      },
      "source": [
        "x,y"
      ],
      "execution_count": 130,
      "outputs": [
        {
          "output_type": "execute_result",
          "data": {
            "text/plain": [
              "(       Airline  Date_of_Journey  Source  ...  Dep_min  Arrival_hour  Arrival_min\n",
              " 0            3               24       0  ...        4             1            2\n",
              " 1            1                6       3  ...       10            13            3\n",
              " 2            4               43       2  ...        5             4            5\n",
              " 3            3               10       3  ...        1            23            6\n",
              " 4            3                0       0  ...       10            21            7\n",
              " ...        ...              ...     ...  ...      ...           ...          ...\n",
              " 10678        0               41       3  ...       11            22            5\n",
              " 10679        1               29       3  ...        9            23            4\n",
              " 10680        4               29       0  ...        4            11            4\n",
              " 10681       10                0       0  ...        6            14            2\n",
              " 10682        1               42       2  ...       11            19            3\n",
              " \n",
              " [10682 rows x 13 columns], 0          65\n",
              " 1         669\n",
              " 2        1537\n",
              " 3         389\n",
              " 4        1457\n",
              "          ... \n",
              " 10678      81\n",
              " 10679      84\n",
              " 10680     604\n",
              " 10681    1377\n",
              " 10682    1262\n",
              " Name: Price, Length: 10682, dtype: int64)"
            ]
          },
          "metadata": {
            "tags": []
          },
          "execution_count": 130
        }
      ]
    },
    {
      "cell_type": "code",
      "metadata": {
        "id": "aESH1bvA1lM2",
        "colab_type": "code",
        "colab": {}
      },
      "source": [
        "from sklearn.metrics import mean_squared_error as mse\n",
        "from sklearn.metrics import r2_score\n",
        "\n",
        "from math import sqrt\n",
        "\n",
        "from sklearn.model_selection import GridSearchCV\n",
        "from sklearn.model_selection import RandomizedSearchCV\n",
        "\n",
        "from sklearn.neighbors import KNeighborsRegressor\n",
        "from sklearn.linear_model import Ridge\n",
        "from sklearn.linear_model import Lasso\n",
        "from sklearn.tree import DecisionTreeRegressor\n",
        "from sklearn.ensemble import RandomForestRegressor\n",
        "from xgboost import XGBRegressor\n",
        "from sklearn.model_selection import KFold\n",
        "\n",
        "def mean_absolute_percentage_error(y_true, y_pred): \n",
        "    y_true, y_pred = np.array(y_true), np.array(y_pred)\n",
        "    return np.mean(np.abs((y_true - y_pred) / y_true)) * 100"
      ],
      "execution_count": 131,
      "outputs": []
    },
    {
      "cell_type": "code",
      "metadata": {
        "id": "p8o6MY5A1xkB",
        "colab_type": "code",
        "colab": {}
      },
      "source": [
        "from sklearn.model_selection import train_test_split\n",
        "x_train, x_test, y_train, y_test = train_test_split(x, y, test_size = 0.3, random_state = 42)"
      ],
      "execution_count": 132,
      "outputs": []
    },
    {
      "cell_type": "code",
      "metadata": {
        "id": "BdTQ0Mfh10VN",
        "colab_type": "code",
        "colab": {
          "base_uri": "https://localhost:8080/",
          "height": 104
        },
        "outputId": "f3995e9a-8100-4b04-a3cd-3897e2f56950"
      },
      "source": [
        "print(\"The size of training input is\", x_train.shape)\n",
        "print(\"The size of training output is\", y_train.shape)\n",
        "print(50 *'*')\n",
        "print(\"The size of testing input is\", x_test.shape)\n",
        "print(\"The size of testing output is\", y_test.shape)\n"
      ],
      "execution_count": 133,
      "outputs": [
        {
          "output_type": "stream",
          "text": [
            "The size of training input is (7477, 13)\n",
            "The size of training output is (7477,)\n",
            "**************************************************\n",
            "The size of testing input is (3205, 13)\n",
            "The size of testing output is (3205,)\n"
          ],
          "name": "stdout"
        }
      ]
    },
    {
      "cell_type": "code",
      "metadata": {
        "id": "IihVSQX318d7",
        "colab_type": "code",
        "colab": {
          "base_uri": "https://localhost:8080/",
          "height": 173
        },
        "outputId": "46702b48-1aba-4df0-c298-d6025bf6ed02"
      },
      "source": [
        "# Using GridSearchCV for the model\n",
        "params ={'alpha' :[0.0001, 0.001, 0.01, 0.1, 1, 10, 100, 1000, 10000, 100000]}\n",
        "ridge_regressor =GridSearchCV(Ridge(), params ,cv =5,scoring = 'neg_mean_absolute_error', n_jobs =-1)\n",
        "ridge_regressor.fit(x_train ,y_train)\n"
      ],
      "execution_count": 134,
      "outputs": [
        {
          "output_type": "execute_result",
          "data": {
            "text/plain": [
              "GridSearchCV(cv=5, error_score=nan,\n",
              "             estimator=Ridge(alpha=1.0, copy_X=True, fit_intercept=True,\n",
              "                             max_iter=None, normalize=False, random_state=None,\n",
              "                             solver='auto', tol=0.001),\n",
              "             iid='deprecated', n_jobs=-1,\n",
              "             param_grid={'alpha': [0.0001, 0.001, 0.01, 0.1, 1, 10, 100, 1000,\n",
              "                                   10000, 100000]},\n",
              "             pre_dispatch='2*n_jobs', refit=True, return_train_score=False,\n",
              "             scoring='neg_mean_absolute_error', verbose=0)"
            ]
          },
          "metadata": {
            "tags": []
          },
          "execution_count": 134
        }
      ]
    },
    {
      "cell_type": "code",
      "metadata": {
        "id": "cGwlAq162Cl4",
        "colab_type": "code",
        "colab": {}
      },
      "source": [
        "y_train_pred =ridge_regressor.predict(x_train)\n",
        "y_test_pred =ridge_regressor.predict(x_test) "
      ],
      "execution_count": 135,
      "outputs": []
    },
    {
      "cell_type": "code",
      "metadata": {
        "id": "ijlE8wWU2IRu",
        "colab_type": "code",
        "colab": {
          "base_uri": "https://localhost:8080/",
          "height": 121
        },
        "outputId": "81a3a333-cd9a-4d3b-a104-1fee1394da70"
      },
      "source": [
        "print(\"Train Results for Ridge Regressor Model:\")\n",
        "print(50 * '-')\n",
        "print(\"Root mean squared error: \", sqrt(mse(y_train.values, y_train_pred)))\n",
        "print(\"Mean absolute % error: \", round(mean_absolute_percentage_error(y_train.values, y_train_pred)))\n",
        "print(\"R-squared: \", r2_score(y_train.values, y_train_pred))"
      ],
      "execution_count": 136,
      "outputs": [
        {
          "output_type": "stream",
          "text": [
            "Train Results for Ridge Regressor Model:\n",
            "--------------------------------------------------\n",
            "Root mean squared error:  3.354748111997753e-11\n",
            "Mean absolute % error:  inf\n",
            "R-squared:  1.0\n"
          ],
          "name": "stdout"
        },
        {
          "output_type": "stream",
          "text": [
            "/usr/local/lib/python3.6/dist-packages/ipykernel_launcher.py:19: RuntimeWarning: divide by zero encountered in true_divide\n"
          ],
          "name": "stderr"
        }
      ]
    },
    {
      "cell_type": "code",
      "metadata": {
        "id": "ByfYpAsC2Nx1",
        "colab_type": "code",
        "colab": {
          "base_uri": "https://localhost:8080/",
          "height": 104
        },
        "outputId": "17ba3b54-6ff3-41b0-ace2-a1c491c3c3b6"
      },
      "source": [
        "print(\"Test Results for Ridge Regressor Model:\")\n",
        "print(50 * '-')\n",
        "print(\"Root mean squared error: \", sqrt(mse(y_test, y_test_pred)))\n",
        "print(\"Mean absolute % error: \", round(mean_absolute_percentage_error(y_test, y_test_pred)))\n",
        "print(\"R-squared: \", r2_score(y_test, y_test_pred))"
      ],
      "execution_count": 137,
      "outputs": [
        {
          "output_type": "stream",
          "text": [
            "Test Results for Ridge Regressor Model:\n",
            "--------------------------------------------------\n",
            "Root mean squared error:  3.3225984557775176e-11\n",
            "Mean absolute % error:  0.0\n",
            "R-squared:  1.0\n"
          ],
          "name": "stdout"
        }
      ]
    },
    {
      "cell_type": "markdown",
      "metadata": {
        "id": "eJ3Y9KazGgWz",
        "colab_type": "text"
      },
      "source": [
        "Using  LASSO Regressor in GridSearchcv\n"
      ]
    },
    {
      "cell_type": "code",
      "metadata": {
        "id": "EYlkWjPc3Mz4",
        "colab_type": "code",
        "colab": {
          "base_uri": "https://localhost:8080/",
          "height": 190
        },
        "outputId": "3a60c764-476a-4672-cce8-f6e057531bc3"
      },
      "source": [
        "params ={'alpha' :[0.0001, 0.001, 0.01, 0.1, 1, 10, 100, 1000, 10000, 100000]}\n",
        "lasso_regressor =GridSearchCV(Lasso(), params ,cv =15,scoring = 'neg_mean_absolute_error', n_jobs =-1)\n",
        "lasso_regressor.fit(x_train ,y_train)"
      ],
      "execution_count": 138,
      "outputs": [
        {
          "output_type": "execute_result",
          "data": {
            "text/plain": [
              "GridSearchCV(cv=15, error_score=nan,\n",
              "             estimator=Lasso(alpha=1.0, copy_X=True, fit_intercept=True,\n",
              "                             max_iter=1000, normalize=False, positive=False,\n",
              "                             precompute=False, random_state=None,\n",
              "                             selection='cyclic', tol=0.0001, warm_start=False),\n",
              "             iid='deprecated', n_jobs=-1,\n",
              "             param_grid={'alpha': [0.0001, 0.001, 0.01, 0.1, 1, 10, 100, 1000,\n",
              "                                   10000, 100000]},\n",
              "             pre_dispatch='2*n_jobs', refit=True, return_train_score=False,\n",
              "             scoring='neg_mean_absolute_error', verbose=0)"
            ]
          },
          "metadata": {
            "tags": []
          },
          "execution_count": 138
        }
      ]
    },
    {
      "cell_type": "code",
      "metadata": {
        "id": "pF9T4rdG3Sfe",
        "colab_type": "code",
        "colab": {}
      },
      "source": [
        "y_train_pred =lasso_regressor.predict(x_train) \n",
        "y_test_pred =lasso_regressor.predict(x_test) "
      ],
      "execution_count": 139,
      "outputs": []
    },
    {
      "cell_type": "code",
      "metadata": {
        "id": "8P9UgWwJ3YzG",
        "colab_type": "code",
        "colab": {
          "base_uri": "https://localhost:8080/",
          "height": 121
        },
        "outputId": "c776beb2-1c9c-4d9a-9983-1e04d970e986"
      },
      "source": [
        "print(\"Train Results for Lasso Regressor Model:\")\n",
        "print(50 * '-')\n",
        "print(\"Root mean squared error: \", sqrt(mse(y_train.values, y_train_pred)))\n",
        "print(\"Mean absolute % error: \", round(mean_absolute_percentage_error(y_train.values, y_train_pred)))\n",
        "print(\"R-squared: \", r2_score(y_train.values, y_train_pred))"
      ],
      "execution_count": 140,
      "outputs": [
        {
          "output_type": "stream",
          "text": [
            "Train Results for Lasso Regressor Model:\n",
            "--------------------------------------------------\n",
            "Root mean squared error:  6.493362183552897e-05\n",
            "Mean absolute % error:  inf\n",
            "R-squared:  0.999999999999987\n"
          ],
          "name": "stdout"
        },
        {
          "output_type": "stream",
          "text": [
            "/usr/local/lib/python3.6/dist-packages/ipykernel_launcher.py:19: RuntimeWarning: divide by zero encountered in true_divide\n"
          ],
          "name": "stderr"
        }
      ]
    },
    {
      "cell_type": "code",
      "metadata": {
        "id": "ZZtrKBpR3bI4",
        "colab_type": "code",
        "colab": {
          "base_uri": "https://localhost:8080/",
          "height": 104
        },
        "outputId": "44910249-8138-4411-df27-84da9ec592be"
      },
      "source": [
        "print(\"Test Results for Lasso Regressor Model:\")\n",
        "print(50 * '-')\n",
        "print(\"Root mean squared error: \", sqrt(mse(y_test, y_test_pred)))\n",
        "print(\"Mean absolute % error: \", round(mean_absolute_percentage_error(y_test, y_test_pred)))\n",
        "print(\"R-squared: \", r2_score(y_test, y_test_pred))"
      ],
      "execution_count": 141,
      "outputs": [
        {
          "output_type": "stream",
          "text": [
            "Test Results for Lasso Regressor Model:\n",
            "--------------------------------------------------\n",
            "Root mean squared error:  6.446015723288324e-05\n",
            "Mean absolute % error:  0.0\n",
            "R-squared:  0.9999999999999872\n"
          ],
          "name": "stdout"
        }
      ]
    },
    {
      "cell_type": "markdown",
      "metadata": {
        "id": "MyuYYcFwHBPQ",
        "colab_type": "text"
      },
      "source": [
        "Using KNN Regressor "
      ]
    },
    {
      "cell_type": "code",
      "metadata": {
        "id": "yHtaI8hk3e2S",
        "colab_type": "code",
        "colab": {
          "base_uri": "https://localhost:8080/",
          "height": 225
        },
        "outputId": "dee7a2ca-d620-440c-d4be-34c5d43c7f00"
      },
      "source": [
        "k_range = list(range(1, 30))\n",
        "params = dict(n_neighbors = k_range)\n",
        "knn_regressor = GridSearchCV(KNeighborsRegressor(), params, cv =10, scoring = 'neg_mean_squared_error')\n",
        "knn_regressor.fit(x_train, y_train)"
      ],
      "execution_count": 142,
      "outputs": [
        {
          "output_type": "execute_result",
          "data": {
            "text/plain": [
              "GridSearchCV(cv=10, error_score=nan,\n",
              "             estimator=KNeighborsRegressor(algorithm='auto', leaf_size=30,\n",
              "                                           metric='minkowski',\n",
              "                                           metric_params=None, n_jobs=None,\n",
              "                                           n_neighbors=5, p=2,\n",
              "                                           weights='uniform'),\n",
              "             iid='deprecated', n_jobs=None,\n",
              "             param_grid={'n_neighbors': [1, 2, 3, 4, 5, 6, 7, 8, 9, 10, 11, 12,\n",
              "                                         13, 14, 15, 16, 17, 18, 19, 20, 21, 22,\n",
              "                                         23, 24, 25, 26, 27, 28, 29]},\n",
              "             pre_dispatch='2*n_jobs', refit=True, return_train_score=False,\n",
              "             scoring='neg_mean_squared_error', verbose=0)"
            ]
          },
          "metadata": {
            "tags": []
          },
          "execution_count": 142
        }
      ]
    },
    {
      "cell_type": "code",
      "metadata": {
        "id": "XfFgRo4g3mCD",
        "colab_type": "code",
        "colab": {}
      },
      "source": [
        "y_train_pred =knn_regressor.predict(x_train) \n",
        "y_test_pred =knn_regressor.predict(x_test) "
      ],
      "execution_count": 143,
      "outputs": []
    },
    {
      "cell_type": "code",
      "metadata": {
        "id": "biO5fvMb4vcq",
        "colab_type": "code",
        "colab": {
          "base_uri": "https://localhost:8080/",
          "height": 121
        },
        "outputId": "551c3038-e22d-4b4f-c342-bb4251a7a20e"
      },
      "source": [
        "print(\"Train Results for KNN Regressor Model:\")\n",
        "print(50 * '-')\n",
        "print(\"Root mean squared error: \", sqrt(mse(y_train.values, y_train_pred)))\n",
        "print(\"Mean absolute % error: \", round(mean_absolute_percentage_error(y_train.values, y_train_pred)))\n",
        "print(\"R-squared: \", r2_score(y_train.values, y_train_pred))"
      ],
      "execution_count": 144,
      "outputs": [
        {
          "output_type": "stream",
          "text": [
            "Train Results for KNN Regressor Model:\n",
            "--------------------------------------------------\n",
            "Root mean squared error:  3.6070573800057257\n",
            "Mean absolute % error:  inf\n",
            "R-squared:  0.999959774661019\n"
          ],
          "name": "stdout"
        },
        {
          "output_type": "stream",
          "text": [
            "/usr/local/lib/python3.6/dist-packages/ipykernel_launcher.py:19: RuntimeWarning: divide by zero encountered in true_divide\n"
          ],
          "name": "stderr"
        }
      ]
    },
    {
      "cell_type": "code",
      "metadata": {
        "id": "Yi_rhduD4ynU",
        "colab_type": "code",
        "colab": {
          "base_uri": "https://localhost:8080/",
          "height": 104
        },
        "outputId": "da61085b-8ca3-4b4d-d3c8-f739abbf9fbf"
      },
      "source": [
        "print(\"Test Results for KNN Regressor Model:\")\n",
        "print(50 * '-')\n",
        "print(\"Root mean squared error: \", sqrt(mse(y_test, y_test_pred)))\n",
        "print(\"Mean absolute % errorr: \", round(mean_absolute_percentage_error(y_test, y_test_pred)))\n",
        "print(\"R-squared: \", r2_score(y_test, y_test_pred))"
      ],
      "execution_count": 145,
      "outputs": [
        {
          "output_type": "stream",
          "text": [
            "Test Results for KNN Regressor Model:\n",
            "--------------------------------------------------\n",
            "Root mean squared error:  5.1959455906206236\n",
            "Mean absolute % errorr:  1.0\n",
            "R-squared:  0.9999167228017489\n"
          ],
          "name": "stdout"
        }
      ]
    },
    {
      "cell_type": "markdown",
      "metadata": {
        "id": "4it1S5McHaz0",
        "colab_type": "text"
      },
      "source": [
        "Using DecisionTreeRegressor "
      ]
    },
    {
      "cell_type": "code",
      "metadata": {
        "id": "LE1i3lJc42oz",
        "colab_type": "code",
        "colab": {
          "base_uri": "https://localhost:8080/",
          "height": 329
        },
        "outputId": "dab73765-f947-4b20-956e-d718b24c43c4"
      },
      "source": [
        "depth  =list(range(3,30))\n",
        "param_grid =dict(max_depth =depth)\n",
        "D_tree =GridSearchCV(DecisionTreeRegressor(),param_grid,cv =10)\n",
        "D_tree.fit(x_train,y_train)"
      ],
      "execution_count": 146,
      "outputs": [
        {
          "output_type": "execute_result",
          "data": {
            "text/plain": [
              "GridSearchCV(cv=10, error_score=nan,\n",
              "             estimator=DecisionTreeRegressor(ccp_alpha=0.0, criterion='mse',\n",
              "                                             max_depth=None, max_features=None,\n",
              "                                             max_leaf_nodes=None,\n",
              "                                             min_impurity_decrease=0.0,\n",
              "                                             min_impurity_split=None,\n",
              "                                             min_samples_leaf=1,\n",
              "                                             min_samples_split=2,\n",
              "                                             min_weight_fraction_leaf=0.0,\n",
              "                                             presort='deprecated',\n",
              "                                             random_state=None,\n",
              "                                             splitter='best'),\n",
              "             iid='deprecated', n_jobs=None,\n",
              "             param_grid={'max_depth': [3, 4, 5, 6, 7, 8, 9, 10, 11, 12, 13, 14,\n",
              "                                       15, 16, 17, 18, 19, 20, 21, 22, 23, 24,\n",
              "                                       25, 26, 27, 28, 29]},\n",
              "             pre_dispatch='2*n_jobs', refit=True, return_train_score=False,\n",
              "             scoring=None, verbose=0)"
            ]
          },
          "metadata": {
            "tags": []
          },
          "execution_count": 146
        }
      ]
    },
    {
      "cell_type": "code",
      "metadata": {
        "id": "qAkU8j2S457n",
        "colab_type": "code",
        "colab": {}
      },
      "source": [
        "y_train_pred =D_tree.predict(x_train)\n",
        "y_test_pred =D_tree.predict(x_test) "
      ],
      "execution_count": 147,
      "outputs": []
    },
    {
      "cell_type": "code",
      "metadata": {
        "id": "gh_9M3sf4_Xg",
        "colab_type": "code",
        "colab": {
          "base_uri": "https://localhost:8080/",
          "height": 121
        },
        "outputId": "98295f9d-63f1-4bc1-b255-1445c9f8d1fa"
      },
      "source": [
        "print(\"Train Results for Decision Tree Regressor Model:\")\n",
        "print(50 * '-')\n",
        "print(\"Root mean squared error: \", sqrt(mse(y_train.values, y_train_pred)))\n",
        "print(\"Mean absolute % error: \", round(mean_absolute_percentage_error(y_train.values, y_train_pred)))\n",
        "print(\"R-squared: \", r2_score(y_train.values, y_train_pred))"
      ],
      "execution_count": 148,
      "outputs": [
        {
          "output_type": "stream",
          "text": [
            "Train Results for Decision Tree Regressor Model:\n",
            "--------------------------------------------------\n",
            "Root mean squared error:  0.0\n",
            "Mean absolute % error:  nan\n",
            "R-squared:  1.0\n"
          ],
          "name": "stdout"
        },
        {
          "output_type": "stream",
          "text": [
            "/usr/local/lib/python3.6/dist-packages/ipykernel_launcher.py:19: RuntimeWarning: invalid value encountered in true_divide\n"
          ],
          "name": "stderr"
        }
      ]
    },
    {
      "cell_type": "code",
      "metadata": {
        "id": "RZMtXo885EQW",
        "colab_type": "code",
        "colab": {
          "base_uri": "https://localhost:8080/",
          "height": 104
        },
        "outputId": "68d15a1e-0fe2-46f4-b676-799ebc334fbb"
      },
      "source": [
        "print(\"Test Results for Decision Tree Regressor Model:\")\n",
        "print(50 * '-')\n",
        "print(\"Root mean squared error: \", sqrt(mse(y_test, y_test_pred)))\n",
        "print(\"Mean absolute % error: \", round(mean_absolute_percentage_error(y_test, y_test_pred)))\n",
        "print(\"R-squared: \", r2_score(y_test, y_test_pred))"
      ],
      "execution_count": 149,
      "outputs": [
        {
          "output_type": "stream",
          "text": [
            "Test Results for Decision Tree Regressor Model:\n",
            "--------------------------------------------------\n",
            "Root mean squared error:  0.7036787665918747\n",
            "Mean absolute % error:  0.0\n",
            "R-squared:  0.9999984726245387\n"
          ],
          "name": "stdout"
        }
      ]
    },
    {
      "cell_type": "markdown",
      "metadata": {
        "id": "D9e5VNNjHkXH",
        "colab_type": "text"
      },
      "source": [
        "Using RandomizesearchCV "
      ]
    },
    {
      "cell_type": "code",
      "metadata": {
        "id": "j-YLxJ0m5H7c",
        "colab_type": "code",
        "colab": {
          "base_uri": "https://localhost:8080/",
          "height": 450
        },
        "outputId": "e7f58036-3a14-4fc2-e9ba-876d33eb586b"
      },
      "source": [
        "tuned_params = {'n_estimators': [100, 200, 300, 400, 500], 'min_samples_split': [2, 5, 10], 'min_samples_leaf': [1, 2, 4]}\n",
        "random_regressor = RandomizedSearchCV(RandomForestRegressor(), tuned_params, n_iter = 20, scoring = 'neg_mean_absolute_error', cv = 5, n_jobs = -1)\n",
        "random_regressor.fit(x_train, y_train)"
      ],
      "execution_count": 150,
      "outputs": [
        {
          "output_type": "execute_result",
          "data": {
            "text/plain": [
              "RandomizedSearchCV(cv=5, error_score=nan,\n",
              "                   estimator=RandomForestRegressor(bootstrap=True,\n",
              "                                                   ccp_alpha=0.0,\n",
              "                                                   criterion='mse',\n",
              "                                                   max_depth=None,\n",
              "                                                   max_features='auto',\n",
              "                                                   max_leaf_nodes=None,\n",
              "                                                   max_samples=None,\n",
              "                                                   min_impurity_decrease=0.0,\n",
              "                                                   min_impurity_split=None,\n",
              "                                                   min_samples_leaf=1,\n",
              "                                                   min_samples_split=2,\n",
              "                                                   min_weight_fraction_leaf=0.0,\n",
              "                                                   n_estimators=100,\n",
              "                                                   n_jobs=None, oob_score=False,\n",
              "                                                   random_state=None, verbose=0,\n",
              "                                                   warm_start=False),\n",
              "                   iid='deprecated', n_iter=20, n_jobs=-1,\n",
              "                   param_distributions={'min_samples_leaf': [1, 2, 4],\n",
              "                                        'min_samples_split': [2, 5, 10],\n",
              "                                        'n_estimators': [100, 200, 300, 400,\n",
              "                                                         500]},\n",
              "                   pre_dispatch='2*n_jobs', random_state=None, refit=True,\n",
              "                   return_train_score=False, scoring='neg_mean_absolute_error',\n",
              "                   verbose=0)"
            ]
          },
          "metadata": {
            "tags": []
          },
          "execution_count": 150
        }
      ]
    },
    {
      "cell_type": "code",
      "metadata": {
        "id": "qkdS7Dyx5LVB",
        "colab_type": "code",
        "colab": {}
      },
      "source": [
        "y_train_pred = random_regressor.predict(x_train)\n",
        "y_test_pred = random_regressor.predict(x_test)"
      ],
      "execution_count": 151,
      "outputs": []
    },
    {
      "cell_type": "code",
      "metadata": {
        "id": "i9wpzkBj7PIo",
        "colab_type": "code",
        "colab": {
          "base_uri": "https://localhost:8080/",
          "height": 121
        },
        "outputId": "c14a0315-c82d-431a-9105-ae879730dc7d"
      },
      "source": [
        "print(\"Train Results for Random Forest Regressor Model:\")\n",
        "print(50 * '-')\n",
        "print(\"Root mean squared error: \", sqrt(mse(y_train.values, y_train_pred)))\n",
        "print(\"Mean absolute % error: \", round(mean_absolute_percentage_error(y_train.values, y_train_pred)))\n",
        "print(\"R-squared: \", r2_score(y_train.values, y_train_pred))"
      ],
      "execution_count": 152,
      "outputs": [
        {
          "output_type": "stream",
          "text": [
            "Train Results for Random Forest Regressor Model:\n",
            "--------------------------------------------------\n",
            "Root mean squared error:  0.14743106916502585\n",
            "Mean absolute % error:  inf\n",
            "R-squared:  0.9999999327996336\n"
          ],
          "name": "stdout"
        },
        {
          "output_type": "stream",
          "text": [
            "/usr/local/lib/python3.6/dist-packages/ipykernel_launcher.py:19: RuntimeWarning: divide by zero encountered in true_divide\n"
          ],
          "name": "stderr"
        }
      ]
    },
    {
      "cell_type": "code",
      "metadata": {
        "id": "_tQuQVcI7SBi",
        "colab_type": "code",
        "colab": {
          "base_uri": "https://localhost:8080/",
          "height": 104
        },
        "outputId": "00dcc21d-5ab6-4cb1-b31b-ff5622e7abe1"
      },
      "source": [
        "print(\"Test Results for Random Forest Regressor Model:\")\n",
        "print(50 * '-')\n",
        "print(\"Root mean squared error: \", sqrt(mse(y_test, y_test_pred)))\n",
        "print(\"Mean absolute % error: \", round(mean_absolute_percentage_error(y_test, y_test_pred)))\n",
        "print(\"R-squared: \", r2_score(y_test, y_test_pred))"
      ],
      "execution_count": 153,
      "outputs": [
        {
          "output_type": "stream",
          "text": [
            "Test Results for Random Forest Regressor Model:\n",
            "--------------------------------------------------\n",
            "Root mean squared error:  0.4043170605990053\n",
            "Mean absolute % error:  0.0\n",
            "R-squared:  0.9999994957556385\n"
          ],
          "name": "stdout"
        }
      ]
    },
    {
      "cell_type": "markdown",
      "metadata": {
        "id": "utWcbfcAHynl",
        "colab_type": "text"
      },
      "source": [
        "Using XGBoosting in RandomizeSearchcv\n"
      ]
    },
    {
      "cell_type": "code",
      "metadata": {
        "id": "hw1dn9RY7WMg",
        "colab_type": "code",
        "colab": {
          "base_uri": "https://localhost:8080/",
          "height": 450
        },
        "outputId": "82a33f1e-9264-4743-d6aa-db7616d1fbbf"
      },
      "source": [
        "tuned_params = {'max_depth': [1, 2, 3, 4, 5], 'learning_rate': [0.01, 0.05, 0.1], 'n_estimators': [100, 200, 300, 400, 500], 'reg_lambda': [0.001, 0.1, 1.0, 10.0, 100.0]}\n",
        "XGB = RandomizedSearchCV(XGBRegressor(), tuned_params, n_iter=20, scoring = 'neg_mean_absolute_error', cv=5, n_jobs=-1)\n",
        "XGB.fit(x_train, y_train)"
      ],
      "execution_count": 154,
      "outputs": [
        {
          "output_type": "stream",
          "text": [
            "[14:30:49] WARNING: /workspace/src/objective/regression_obj.cu:152: reg:linear is now deprecated in favor of reg:squarederror.\n"
          ],
          "name": "stdout"
        },
        {
          "output_type": "execute_result",
          "data": {
            "text/plain": [
              "RandomizedSearchCV(cv=5, error_score=nan,\n",
              "                   estimator=XGBRegressor(base_score=0.5, booster='gbtree',\n",
              "                                          colsample_bylevel=1,\n",
              "                                          colsample_bynode=1,\n",
              "                                          colsample_bytree=1, gamma=0,\n",
              "                                          importance_type='gain',\n",
              "                                          learning_rate=0.1, max_delta_step=0,\n",
              "                                          max_depth=3, min_child_weight=1,\n",
              "                                          missing=None, n_estimators=100,\n",
              "                                          n_jobs=1, nthread=None,\n",
              "                                          objective='reg:linear',\n",
              "                                          random_state=0, reg_alpha=...\n",
              "                                          seed=None, silent=None, subsample=1,\n",
              "                                          verbosity=1),\n",
              "                   iid='deprecated', n_iter=20, n_jobs=-1,\n",
              "                   param_distributions={'learning_rate': [0.01, 0.05, 0.1],\n",
              "                                        'max_depth': [1, 2, 3, 4, 5],\n",
              "                                        'n_estimators': [100, 200, 300, 400,\n",
              "                                                         500],\n",
              "                                        'reg_lambda': [0.001, 0.1, 1.0, 10.0,\n",
              "                                                       100.0]},\n",
              "                   pre_dispatch='2*n_jobs', random_state=None, refit=True,\n",
              "                   return_train_score=False, scoring='neg_mean_absolute_error',\n",
              "                   verbose=0)"
            ]
          },
          "metadata": {
            "tags": []
          },
          "execution_count": 154
        }
      ]
    },
    {
      "cell_type": "code",
      "metadata": {
        "id": "NQegnoEM7atq",
        "colab_type": "code",
        "colab": {}
      },
      "source": [
        "y_train_pred = XGB.predict(x_train)\n",
        "y_test_pred = XGB.predict(x_test)"
      ],
      "execution_count": 155,
      "outputs": []
    },
    {
      "cell_type": "code",
      "metadata": {
        "id": "yll4Eb7s7zlb",
        "colab_type": "code",
        "colab": {
          "base_uri": "https://localhost:8080/",
          "height": 121
        },
        "outputId": "c183e64a-7d4e-48fe-c70e-db9a35ff7db8"
      },
      "source": [
        "print(\"Train Results for XGBoost Regressor Model:\")\n",
        "print(50 * '-')\n",
        "print(\"Root mean squared error: \", sqrt(mse(y_train.values, y_train_pred)))\n",
        "print(\"Mean absolute % error: \", round(mean_absolute_percentage_error(y_train.values, y_train_pred)))\n",
        "print(\"R-squared: \", r2_score(y_train.values, y_train_pred))"
      ],
      "execution_count": 156,
      "outputs": [
        {
          "output_type": "stream",
          "text": [
            "Train Results for XGBoost Regressor Model:\n",
            "--------------------------------------------------\n",
            "Root mean squared error:  0.537583750887255\n",
            "Mean absolute % error:  inf\n",
            "R-squared:  0.9999991065178575\n"
          ],
          "name": "stdout"
        },
        {
          "output_type": "stream",
          "text": [
            "/usr/local/lib/python3.6/dist-packages/ipykernel_launcher.py:19: RuntimeWarning: divide by zero encountered in true_divide\n"
          ],
          "name": "stderr"
        }
      ]
    },
    {
      "cell_type": "code",
      "metadata": {
        "id": "egQwnLP872mk",
        "colab_type": "code",
        "colab": {
          "base_uri": "https://localhost:8080/",
          "height": 104
        },
        "outputId": "f9c44499-6d7c-42dc-9ee6-f24863323bb2"
      },
      "source": [
        "print(\"Test Results for XGBoost Regressor Model:\")\n",
        "print(50 * '-')\n",
        "print(\"Root mean squared error: \", sqrt(mse(y_test, y_test_pred)))\n",
        "print(\"Mean absolute % error: \", round(mean_absolute_percentage_error(y_test, y_test_pred)))\n",
        "print(\"R-squared: \", r2_score(y_test, y_test_pred))"
      ],
      "execution_count": 157,
      "outputs": [
        {
          "output_type": "stream",
          "text": [
            "Test Results for XGBoost Regressor Model:\n",
            "--------------------------------------------------\n",
            "Root mean squared error:  0.721676609604359\n",
            "Mean absolute % error:  0.0\n",
            "R-squared:  0.9999983934946539\n"
          ],
          "name": "stdout"
        }
      ]
    },
    {
      "cell_type": "markdown",
      "metadata": {
        "id": "uJpX8sPfIGFo",
        "colab_type": "text"
      },
      "source": [
        " DescisionTree Regressor Model giving perform better  in both test and train data."
      ]
    },
    {
      "cell_type": "code",
      "metadata": {
        "id": "5kJW2jMm76Is",
        "colab_type": "code",
        "colab": {
          "base_uri": "https://localhost:8080/",
          "height": 34
        },
        "outputId": "8f562df1-5e3b-4636-c1a2-149399fc255c"
      },
      "source": [
        "from sklearn.externals import joblib\n",
        "joblib.dump(D_tree,'PROJECT13_MODEL1.csv')\n",
        "model1=joblib.load('PROJECT13_MODEL1.csv')\n",
        "model1.predict(x_test)"
      ],
      "execution_count": 158,
      "outputs": [
        {
          "output_type": "execute_result",
          "data": {
            "text/plain": [
              "array([1710.,  185.,  918., ...,  192.,   17.,  492.])"
            ]
          },
          "metadata": {
            "tags": []
          },
          "execution_count": 158
        }
      ]
    }
  ]
}