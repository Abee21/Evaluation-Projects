{
  "nbformat": 4,
  "nbformat_minor": 0,
  "metadata": {
    "colab": {
      "name": "project 13.ipynb",
      "provenance": []
    },
    "kernelspec": {
      "name": "python3",
      "display_name": "Python 3"
    }
  },
  "cells": [
    {
      "cell_type": "code",
      "metadata": {
        "id": "2jwN8UilhNPM",
        "colab_type": "code",
        "colab": {}
      },
      "source": [
        "import pandas as pd\n",
        "import numpy as np\n",
        "import seaborn as sns \n",
        "import matplotlib.pyplot as plt "
      ],
      "execution_count": 126,
      "outputs": []
    },
    {
      "cell_type": "code",
      "metadata": {
        "id": "hUrmYb4EheMY",
        "colab_type": "code",
        "colab": {}
      },
      "source": [
        "df_train=pd.read_excel(\"/content/Final_Train.xlsx\")\n",
        "df_test=pd.read_excel(\"/content/Final_Test.xlsx\")"
      ],
      "execution_count": 127,
      "outputs": []
    },
    {
      "cell_type": "code",
      "metadata": {
        "id": "MRKzZTDghziZ",
        "colab_type": "code",
        "colab": {
          "base_uri": "https://localhost:8080/",
          "height": 202
        },
        "outputId": "b56ea343-79a7-46fc-9b2c-8b694a7d25ba"
      },
      "source": [
        "df_train.head()"
      ],
      "execution_count": 128,
      "outputs": [
        {
          "output_type": "execute_result",
          "data": {
            "text/html": [
              "<div>\n",
              "<style scoped>\n",
              "    .dataframe tbody tr th:only-of-type {\n",
              "        vertical-align: middle;\n",
              "    }\n",
              "\n",
              "    .dataframe tbody tr th {\n",
              "        vertical-align: top;\n",
              "    }\n",
              "\n",
              "    .dataframe thead th {\n",
              "        text-align: right;\n",
              "    }\n",
              "</style>\n",
              "<table border=\"1\" class=\"dataframe\">\n",
              "  <thead>\n",
              "    <tr style=\"text-align: right;\">\n",
              "      <th></th>\n",
              "      <th>Qualification</th>\n",
              "      <th>Experience</th>\n",
              "      <th>Rating</th>\n",
              "      <th>Place</th>\n",
              "      <th>Profile</th>\n",
              "      <th>Miscellaneous_Info</th>\n",
              "      <th>Fees</th>\n",
              "    </tr>\n",
              "  </thead>\n",
              "  <tbody>\n",
              "    <tr>\n",
              "      <th>0</th>\n",
              "      <td>BHMS, MD - Homeopathy</td>\n",
              "      <td>24 years experience</td>\n",
              "      <td>100%</td>\n",
              "      <td>Kakkanad, Ernakulam</td>\n",
              "      <td>Homeopath</td>\n",
              "      <td>100% 16 Feedback Kakkanad, Ernakulam</td>\n",
              "      <td>100</td>\n",
              "    </tr>\n",
              "    <tr>\n",
              "      <th>1</th>\n",
              "      <td>BAMS, MD - Ayurveda Medicine</td>\n",
              "      <td>12 years experience</td>\n",
              "      <td>98%</td>\n",
              "      <td>Whitefield, Bangalore</td>\n",
              "      <td>Ayurveda</td>\n",
              "      <td>98% 76 Feedback Whitefield, Bangalore</td>\n",
              "      <td>350</td>\n",
              "    </tr>\n",
              "    <tr>\n",
              "      <th>2</th>\n",
              "      <td>MBBS, MS - Otorhinolaryngology</td>\n",
              "      <td>9 years experience</td>\n",
              "      <td>NaN</td>\n",
              "      <td>Mathikere - BEL, Bangalore</td>\n",
              "      <td>ENT Specialist</td>\n",
              "      <td>NaN</td>\n",
              "      <td>300</td>\n",
              "    </tr>\n",
              "    <tr>\n",
              "      <th>3</th>\n",
              "      <td>BSc - Zoology, BAMS</td>\n",
              "      <td>12 years experience</td>\n",
              "      <td>NaN</td>\n",
              "      <td>Bannerghatta Road, Bangalore</td>\n",
              "      <td>Ayurveda</td>\n",
              "      <td>Bannerghatta Road, Bangalore ₹250 Available on...</td>\n",
              "      <td>250</td>\n",
              "    </tr>\n",
              "    <tr>\n",
              "      <th>4</th>\n",
              "      <td>BAMS</td>\n",
              "      <td>20 years experience</td>\n",
              "      <td>100%</td>\n",
              "      <td>Keelkattalai, Chennai</td>\n",
              "      <td>Ayurveda</td>\n",
              "      <td>100% 4 Feedback Keelkattalai, Chennai</td>\n",
              "      <td>250</td>\n",
              "    </tr>\n",
              "  </tbody>\n",
              "</table>\n",
              "</div>"
            ],
            "text/plain": [
              "                    Qualification  ... Fees\n",
              "0           BHMS, MD - Homeopathy  ...  100\n",
              "1    BAMS, MD - Ayurveda Medicine  ...  350\n",
              "2  MBBS, MS - Otorhinolaryngology  ...  300\n",
              "3             BSc - Zoology, BAMS  ...  250\n",
              "4                            BAMS  ...  250\n",
              "\n",
              "[5 rows x 7 columns]"
            ]
          },
          "metadata": {
            "tags": []
          },
          "execution_count": 128
        }
      ]
    },
    {
      "cell_type": "code",
      "metadata": {
        "id": "eD3GWiLoh55O",
        "colab_type": "code",
        "colab": {
          "base_uri": "https://localhost:8080/",
          "height": 202
        },
        "outputId": "50ab0e74-15e3-4651-8b8d-1a72ddcf1de6"
      },
      "source": [
        "df_train.tail()"
      ],
      "execution_count": 129,
      "outputs": [
        {
          "output_type": "execute_result",
          "data": {
            "text/html": [
              "<div>\n",
              "<style scoped>\n",
              "    .dataframe tbody tr th:only-of-type {\n",
              "        vertical-align: middle;\n",
              "    }\n",
              "\n",
              "    .dataframe tbody tr th {\n",
              "        vertical-align: top;\n",
              "    }\n",
              "\n",
              "    .dataframe thead th {\n",
              "        text-align: right;\n",
              "    }\n",
              "</style>\n",
              "<table border=\"1\" class=\"dataframe\">\n",
              "  <thead>\n",
              "    <tr style=\"text-align: right;\">\n",
              "      <th></th>\n",
              "      <th>Qualification</th>\n",
              "      <th>Experience</th>\n",
              "      <th>Rating</th>\n",
              "      <th>Place</th>\n",
              "      <th>Profile</th>\n",
              "      <th>Miscellaneous_Info</th>\n",
              "      <th>Fees</th>\n",
              "    </tr>\n",
              "  </thead>\n",
              "  <tbody>\n",
              "    <tr>\n",
              "      <th>5956</th>\n",
              "      <td>MBBS, MS - ENT</td>\n",
              "      <td>19 years experience</td>\n",
              "      <td>98%</td>\n",
              "      <td>Basavanagudi, Bangalore</td>\n",
              "      <td>ENT Specialist</td>\n",
              "      <td>98% 45 Feedback Basavanagudi, Bangalore</td>\n",
              "      <td>300</td>\n",
              "    </tr>\n",
              "    <tr>\n",
              "      <th>5957</th>\n",
              "      <td>MBBS</td>\n",
              "      <td>33 years experience</td>\n",
              "      <td>NaN</td>\n",
              "      <td>Nungambakkam, Chennai</td>\n",
              "      <td>General Medicine</td>\n",
              "      <td>NaN</td>\n",
              "      <td>100</td>\n",
              "    </tr>\n",
              "    <tr>\n",
              "      <th>5958</th>\n",
              "      <td>MBBS</td>\n",
              "      <td>41 years experience</td>\n",
              "      <td>97%</td>\n",
              "      <td>Greater Kailash Part 2, Delhi</td>\n",
              "      <td>General Medicine</td>\n",
              "      <td>97% 11 Feedback Greater Kailash Part 2, Delhi</td>\n",
              "      <td>600</td>\n",
              "    </tr>\n",
              "    <tr>\n",
              "      <th>5959</th>\n",
              "      <td>MBBS, MD - General Medicine</td>\n",
              "      <td>15 years experience</td>\n",
              "      <td>90%</td>\n",
              "      <td>Vileparle West, Mumbai</td>\n",
              "      <td>General Medicine</td>\n",
              "      <td>General Medical Consultation Viral Fever Treat...</td>\n",
              "      <td>100</td>\n",
              "    </tr>\n",
              "    <tr>\n",
              "      <th>5960</th>\n",
              "      <td>BDS, MDS - Orthodontics</td>\n",
              "      <td>17 years experience</td>\n",
              "      <td>100%</td>\n",
              "      <td>Pitampura, Delhi</td>\n",
              "      <td>Dentist</td>\n",
              "      <td>Acrylic Partial Denture Crowns and Bridges Fix...</td>\n",
              "      <td>200</td>\n",
              "    </tr>\n",
              "  </tbody>\n",
              "</table>\n",
              "</div>"
            ],
            "text/plain": [
              "                    Qualification  ... Fees\n",
              "5956               MBBS, MS - ENT  ...  300\n",
              "5957                         MBBS  ...  100\n",
              "5958                         MBBS  ...  600\n",
              "5959  MBBS, MD - General Medicine  ...  100\n",
              "5960      BDS, MDS - Orthodontics  ...  200\n",
              "\n",
              "[5 rows x 7 columns]"
            ]
          },
          "metadata": {
            "tags": []
          },
          "execution_count": 129
        }
      ]
    },
    {
      "cell_type": "code",
      "metadata": {
        "id": "nD6ZNS87h9Fb",
        "colab_type": "code",
        "colab": {
          "base_uri": "https://localhost:8080/",
          "height": 34
        },
        "outputId": "210b6b7d-744e-4bd7-ce2b-c51fb761f879"
      },
      "source": [
        "df_train.shape"
      ],
      "execution_count": 130,
      "outputs": [
        {
          "output_type": "execute_result",
          "data": {
            "text/plain": [
              "(5961, 7)"
            ]
          },
          "metadata": {
            "tags": []
          },
          "execution_count": 130
        }
      ]
    },
    {
      "cell_type": "code",
      "metadata": {
        "id": "qOICYNPfiBMh",
        "colab_type": "code",
        "colab": {
          "base_uri": "https://localhost:8080/",
          "height": 69
        },
        "outputId": "8951cad9-0652-4dda-96ab-f80adbeb4374"
      },
      "source": [
        "df_train.columns"
      ],
      "execution_count": 131,
      "outputs": [
        {
          "output_type": "execute_result",
          "data": {
            "text/plain": [
              "Index(['Qualification', 'Experience', 'Rating', 'Place', 'Profile',\n",
              "       'Miscellaneous_Info', 'Fees'],\n",
              "      dtype='object')"
            ]
          },
          "metadata": {
            "tags": []
          },
          "execution_count": 131
        }
      ]
    },
    {
      "cell_type": "code",
      "metadata": {
        "id": "UO6sO3mFiD2_",
        "colab_type": "code",
        "colab": {
          "base_uri": "https://localhost:8080/",
          "height": 34
        },
        "outputId": "32de77ed-01dc-4931-8d64-9215f0ef3cce"
      },
      "source": [
        "df_test.shape"
      ],
      "execution_count": 132,
      "outputs": [
        {
          "output_type": "execute_result",
          "data": {
            "text/plain": [
              "(1987, 6)"
            ]
          },
          "metadata": {
            "tags": []
          },
          "execution_count": 132
        }
      ]
    },
    {
      "cell_type": "code",
      "metadata": {
        "id": "N48sC_uQiKNA",
        "colab_type": "code",
        "colab": {
          "base_uri": "https://localhost:8080/",
          "height": 156
        },
        "outputId": "5bb8b14c-328f-477f-be75-4fe39af4b3a1"
      },
      "source": [
        "df_train.isnull().sum()"
      ],
      "execution_count": 133,
      "outputs": [
        {
          "output_type": "execute_result",
          "data": {
            "text/plain": [
              "Qualification            0\n",
              "Experience               0\n",
              "Rating                3302\n",
              "Place                   25\n",
              "Profile                  0\n",
              "Miscellaneous_Info    2620\n",
              "Fees                     0\n",
              "dtype: int64"
            ]
          },
          "metadata": {
            "tags": []
          },
          "execution_count": 133
        }
      ]
    },
    {
      "cell_type": "code",
      "metadata": {
        "id": "h3PFeiDCidP2",
        "colab_type": "code",
        "colab": {
          "base_uri": "https://localhost:8080/",
          "height": 138
        },
        "outputId": "a79fc422-3424-4693-e57a-cf7969158949"
      },
      "source": [
        "df_test.isnull().sum()"
      ],
      "execution_count": 134,
      "outputs": [
        {
          "output_type": "execute_result",
          "data": {
            "text/plain": [
              "Qualification            0\n",
              "Experience               0\n",
              "Rating                1090\n",
              "Place                    6\n",
              "Profile                  0\n",
              "Miscellaneous_Info     834\n",
              "dtype: int64"
            ]
          },
          "metadata": {
            "tags": []
          },
          "execution_count": 134
        }
      ]
    },
    {
      "cell_type": "code",
      "metadata": {
        "id": "_hOqotoq-9zw",
        "colab_type": "code",
        "colab": {
          "base_uri": "https://localhost:8080/",
          "height": 294
        },
        "outputId": "320041e6-7a94-40b6-c72e-fd6dcbbcc432"
      },
      "source": [
        "df_train.describe()"
      ],
      "execution_count": 135,
      "outputs": [
        {
          "output_type": "execute_result",
          "data": {
            "text/html": [
              "<div>\n",
              "<style scoped>\n",
              "    .dataframe tbody tr th:only-of-type {\n",
              "        vertical-align: middle;\n",
              "    }\n",
              "\n",
              "    .dataframe tbody tr th {\n",
              "        vertical-align: top;\n",
              "    }\n",
              "\n",
              "    .dataframe thead th {\n",
              "        text-align: right;\n",
              "    }\n",
              "</style>\n",
              "<table border=\"1\" class=\"dataframe\">\n",
              "  <thead>\n",
              "    <tr style=\"text-align: right;\">\n",
              "      <th></th>\n",
              "      <th>Fees</th>\n",
              "    </tr>\n",
              "  </thead>\n",
              "  <tbody>\n",
              "    <tr>\n",
              "      <th>count</th>\n",
              "      <td>5961.000000</td>\n",
              "    </tr>\n",
              "    <tr>\n",
              "      <th>mean</th>\n",
              "      <td>307.944640</td>\n",
              "    </tr>\n",
              "    <tr>\n",
              "      <th>std</th>\n",
              "      <td>190.920373</td>\n",
              "    </tr>\n",
              "    <tr>\n",
              "      <th>min</th>\n",
              "      <td>5.000000</td>\n",
              "    </tr>\n",
              "    <tr>\n",
              "      <th>25%</th>\n",
              "      <td>150.000000</td>\n",
              "    </tr>\n",
              "    <tr>\n",
              "      <th>50%</th>\n",
              "      <td>300.000000</td>\n",
              "    </tr>\n",
              "    <tr>\n",
              "      <th>75%</th>\n",
              "      <td>500.000000</td>\n",
              "    </tr>\n",
              "    <tr>\n",
              "      <th>max</th>\n",
              "      <td>950.000000</td>\n",
              "    </tr>\n",
              "  </tbody>\n",
              "</table>\n",
              "</div>"
            ],
            "text/plain": [
              "              Fees\n",
              "count  5961.000000\n",
              "mean    307.944640\n",
              "std     190.920373\n",
              "min       5.000000\n",
              "25%     150.000000\n",
              "50%     300.000000\n",
              "75%     500.000000\n",
              "max     950.000000"
            ]
          },
          "metadata": {
            "tags": []
          },
          "execution_count": 135
        }
      ]
    },
    {
      "cell_type": "code",
      "metadata": {
        "id": "fcOfXhzZku1f",
        "colab_type": "code",
        "colab": {}
      },
      "source": [
        "df_train['Experience']=df_train['Experience'].str.replace('years experience','').astype(float)\n",
        "df_test['Experience']=df_test['Experience'].str.replace('years experience','').astype(float)\n",
        "df_train['Rating']=df_train['Rating'].str.replace('%','').astype(float)\n",
        "df_test['Rating']=df_test['Rating'].str.replace('%','').astype(float)\n",
        "df_train['Rating'].fillna(df_train['Rating'].mean(),inplace=True)\n",
        "df_test['Rating'].fillna(df_test['Rating'].mean(),inplace=True)\n",
        "df_train['Place'].fillna('General Medicine',inplace=True)\n",
        "df_test['Place'].fillna('General Medicine',inplace=True)\n"
      ],
      "execution_count": 136,
      "outputs": []
    },
    {
      "cell_type": "code",
      "metadata": {
        "id": "r-pFkcBkk5a3",
        "colab_type": "code",
        "colab": {}
      },
      "source": [
        "df_train.isnull().sum()\n",
        "df_train.dropna(inplace=True)\n",
        "df_test.dropna(inplace=True)"
      ],
      "execution_count": 137,
      "outputs": []
    },
    {
      "cell_type": "code",
      "metadata": {
        "id": "JpTtRaZ2igoe",
        "colab_type": "code",
        "colab": {
          "base_uri": "https://localhost:8080/",
          "height": 416
        },
        "outputId": "f01101d3-40a0-406c-ab66-6aaa4997ed7b"
      },
      "source": [
        "df_train"
      ],
      "execution_count": 138,
      "outputs": [
        {
          "output_type": "execute_result",
          "data": {
            "text/html": [
              "<div>\n",
              "<style scoped>\n",
              "    .dataframe tbody tr th:only-of-type {\n",
              "        vertical-align: middle;\n",
              "    }\n",
              "\n",
              "    .dataframe tbody tr th {\n",
              "        vertical-align: top;\n",
              "    }\n",
              "\n",
              "    .dataframe thead th {\n",
              "        text-align: right;\n",
              "    }\n",
              "</style>\n",
              "<table border=\"1\" class=\"dataframe\">\n",
              "  <thead>\n",
              "    <tr style=\"text-align: right;\">\n",
              "      <th></th>\n",
              "      <th>Qualification</th>\n",
              "      <th>Experience</th>\n",
              "      <th>Rating</th>\n",
              "      <th>Place</th>\n",
              "      <th>Profile</th>\n",
              "      <th>Miscellaneous_Info</th>\n",
              "      <th>Fees</th>\n",
              "    </tr>\n",
              "  </thead>\n",
              "  <tbody>\n",
              "    <tr>\n",
              "      <th>0</th>\n",
              "      <td>BHMS, MD - Homeopathy</td>\n",
              "      <td>24.0</td>\n",
              "      <td>100.000000</td>\n",
              "      <td>Kakkanad, Ernakulam</td>\n",
              "      <td>Homeopath</td>\n",
              "      <td>100% 16 Feedback Kakkanad, Ernakulam</td>\n",
              "      <td>100</td>\n",
              "    </tr>\n",
              "    <tr>\n",
              "      <th>1</th>\n",
              "      <td>BAMS, MD - Ayurveda Medicine</td>\n",
              "      <td>12.0</td>\n",
              "      <td>98.000000</td>\n",
              "      <td>Whitefield, Bangalore</td>\n",
              "      <td>Ayurveda</td>\n",
              "      <td>98% 76 Feedback Whitefield, Bangalore</td>\n",
              "      <td>350</td>\n",
              "    </tr>\n",
              "    <tr>\n",
              "      <th>3</th>\n",
              "      <td>BSc - Zoology, BAMS</td>\n",
              "      <td>12.0</td>\n",
              "      <td>94.643475</td>\n",
              "      <td>Bannerghatta Road, Bangalore</td>\n",
              "      <td>Ayurveda</td>\n",
              "      <td>Bannerghatta Road, Bangalore ₹250 Available on...</td>\n",
              "      <td>250</td>\n",
              "    </tr>\n",
              "    <tr>\n",
              "      <th>4</th>\n",
              "      <td>BAMS</td>\n",
              "      <td>20.0</td>\n",
              "      <td>100.000000</td>\n",
              "      <td>Keelkattalai, Chennai</td>\n",
              "      <td>Ayurveda</td>\n",
              "      <td>100% 4 Feedback Keelkattalai, Chennai</td>\n",
              "      <td>250</td>\n",
              "    </tr>\n",
              "    <tr>\n",
              "      <th>7</th>\n",
              "      <td>BDS</td>\n",
              "      <td>10.0</td>\n",
              "      <td>99.000000</td>\n",
              "      <td>Arekere, Bangalore</td>\n",
              "      <td>Dentist</td>\n",
              "      <td>Dental Fillings Crowns and Bridges Fixing Impa...</td>\n",
              "      <td>200</td>\n",
              "    </tr>\n",
              "    <tr>\n",
              "      <th>...</th>\n",
              "      <td>...</td>\n",
              "      <td>...</td>\n",
              "      <td>...</td>\n",
              "      <td>...</td>\n",
              "      <td>...</td>\n",
              "      <td>...</td>\n",
              "      <td>...</td>\n",
              "    </tr>\n",
              "    <tr>\n",
              "      <th>5953</th>\n",
              "      <td>MD - Homeopathy, Post Graduate Diploma in Heal...</td>\n",
              "      <td>35.0</td>\n",
              "      <td>92.000000</td>\n",
              "      <td>Malleswaram, Bangalore</td>\n",
              "      <td>Homeopath</td>\n",
              "      <td>92% 168 Feedback Malleswaram, Bangalore</td>\n",
              "      <td>100</td>\n",
              "    </tr>\n",
              "    <tr>\n",
              "      <th>5956</th>\n",
              "      <td>MBBS, MS - ENT</td>\n",
              "      <td>19.0</td>\n",
              "      <td>98.000000</td>\n",
              "      <td>Basavanagudi, Bangalore</td>\n",
              "      <td>ENT Specialist</td>\n",
              "      <td>98% 45 Feedback Basavanagudi, Bangalore</td>\n",
              "      <td>300</td>\n",
              "    </tr>\n",
              "    <tr>\n",
              "      <th>5958</th>\n",
              "      <td>MBBS</td>\n",
              "      <td>41.0</td>\n",
              "      <td>97.000000</td>\n",
              "      <td>Greater Kailash Part 2, Delhi</td>\n",
              "      <td>General Medicine</td>\n",
              "      <td>97% 11 Feedback Greater Kailash Part 2, Delhi</td>\n",
              "      <td>600</td>\n",
              "    </tr>\n",
              "    <tr>\n",
              "      <th>5959</th>\n",
              "      <td>MBBS, MD - General Medicine</td>\n",
              "      <td>15.0</td>\n",
              "      <td>90.000000</td>\n",
              "      <td>Vileparle West, Mumbai</td>\n",
              "      <td>General Medicine</td>\n",
              "      <td>General Medical Consultation Viral Fever Treat...</td>\n",
              "      <td>100</td>\n",
              "    </tr>\n",
              "    <tr>\n",
              "      <th>5960</th>\n",
              "      <td>BDS, MDS - Orthodontics</td>\n",
              "      <td>17.0</td>\n",
              "      <td>100.000000</td>\n",
              "      <td>Pitampura, Delhi</td>\n",
              "      <td>Dentist</td>\n",
              "      <td>Acrylic Partial Denture Crowns and Bridges Fix...</td>\n",
              "      <td>200</td>\n",
              "    </tr>\n",
              "  </tbody>\n",
              "</table>\n",
              "<p>3341 rows × 7 columns</p>\n",
              "</div>"
            ],
            "text/plain": [
              "                                          Qualification  ...  Fees\n",
              "0                                 BHMS, MD - Homeopathy  ...   100\n",
              "1                          BAMS, MD - Ayurveda Medicine  ...   350\n",
              "3                                   BSc - Zoology, BAMS  ...   250\n",
              "4                                                  BAMS  ...   250\n",
              "7                                                   BDS  ...   200\n",
              "...                                                 ...  ...   ...\n",
              "5953  MD - Homeopathy, Post Graduate Diploma in Heal...  ...   100\n",
              "5956                                     MBBS, MS - ENT  ...   300\n",
              "5958                                               MBBS  ...   600\n",
              "5959                        MBBS, MD - General Medicine  ...   100\n",
              "5960                            BDS, MDS - Orthodontics  ...   200\n",
              "\n",
              "[3341 rows x 7 columns]"
            ]
          },
          "metadata": {
            "tags": []
          },
          "execution_count": 138
        }
      ]
    },
    {
      "cell_type": "code",
      "metadata": {
        "id": "nB6oIxP6-DYv",
        "colab_type": "code",
        "colab": {
          "base_uri": "https://localhost:8080/",
          "height": 360
        },
        "outputId": "c878e210-2dd4-4989-f741-c15d430a0ddd"
      },
      "source": [
        "df_train['Profile'].value_counts().plot(kind='bar')"
      ],
      "execution_count": 139,
      "outputs": [
        {
          "output_type": "execute_result",
          "data": {
            "text/plain": [
              "<matplotlib.axes._subplots.AxesSubplot at 0x7f9a88973940>"
            ]
          },
          "metadata": {
            "tags": []
          },
          "execution_count": 139
        },
        {
          "output_type": "display_data",
          "data": {
            "image/png": "[encoded data removed]",
            "text/plain": [
              "<Figure size 432x288 with 1 Axes>"
            ]
          },
          "metadata": {
            "tags": [],
            "needs_background": "light"
          }
        }
      ]
    },
    {
      "cell_type": "code",
      "metadata": {
        "id": "Hy6B59rl-RIO",
        "colab_type": "code",
        "colab": {
          "base_uri": "https://localhost:8080/",
          "height": 225
        },
        "outputId": "22751e2c-ce49-4e19-cf9f-a6fa39d0c4af"
      },
      "source": [
        "df_train['Qualification'].value_counts()"
      ],
      "execution_count": 140,
      "outputs": [
        {
          "output_type": "execute_result",
          "data": {
            "text/plain": [
              "BDS                                                                                                       384\n",
              "BHMS                                                                                                      159\n",
              "MBBS, MD - Dermatology                                                                                    127\n",
              "BAMS                                                                                                      120\n",
              "MBBS, MS - ENT                                                                                            110\n",
              "                                                                                                         ... \n",
              "MBBS, MS - Otorhinolaryngology, Diploma in Otorhinolaryngology (DLO)                                        1\n",
              "BDS, MDS - Oral & Maxillofacial Surgery, Basic Life Support (BLS), Advanced Trauma Life Support (ATLS)      1\n",
              "MD - General Medicine, PG in Diabetology (USA), FIMSA                                                       1\n",
              "BDS, MDS, Fellowship In Cosmetic Dermatology                                                                1\n",
              "BDS, DNB - Oral & Maxillofacial Surgery                                                                     1\n",
              "Name: Qualification, Length: 972, dtype: int64"
            ]
          },
          "metadata": {
            "tags": []
          },
          "execution_count": 140
        }
      ]
    },
    {
      "cell_type": "code",
      "metadata": {
        "id": "x4RHB_pj-fHx",
        "colab_type": "code",
        "colab": {
          "base_uri": "https://localhost:8080/",
          "height": 988
        },
        "outputId": "de0bad59-b56c-4452-cff3-926bdffc2e79"
      },
      "source": [
        "df_train['Experience'].value_counts()"
      ],
      "execution_count": 141,
      "outputs": [
        {
          "output_type": "execute_result",
          "data": {
            "text/plain": [
              "9.0     214\n",
              "12.0    186\n",
              "10.0    181\n",
              "11.0    181\n",
              "8.0     162\n",
              "14.0    158\n",
              "19.0    156\n",
              "13.0    154\n",
              "7.0     153\n",
              "6.0     121\n",
              "16.0    119\n",
              "15.0    118\n",
              "18.0    116\n",
              "5.0     113\n",
              "17.0    106\n",
              "21.0    105\n",
              "22.0     87\n",
              "20.0     85\n",
              "23.0     69\n",
              "4.0      55\n",
              "24.0     55\n",
              "3.0      55\n",
              "28.0     46\n",
              "25.0     45\n",
              "27.0     42\n",
              "29.0     34\n",
              "26.0     33\n",
              "31.0     32\n",
              "2.0      32\n",
              "32.0     29\n",
              "34.0     28\n",
              "37.0     27\n",
              "30.0     27\n",
              "33.0     25\n",
              "38.0     24\n",
              "35.0     20\n",
              "40.0     19\n",
              "36.0     16\n",
              "39.0     15\n",
              "41.0     14\n",
              "46.0     13\n",
              "0.0      12\n",
              "43.0     10\n",
              "42.0      9\n",
              "44.0      9\n",
              "45.0      8\n",
              "47.0      5\n",
              "49.0      4\n",
              "48.0      4\n",
              "50.0      3\n",
              "51.0      3\n",
              "52.0      1\n",
              "56.0      1\n",
              "58.0      1\n",
              "53.0      1\n",
              "Name: Experience, dtype: int64"
            ]
          },
          "metadata": {
            "tags": []
          },
          "execution_count": 141
        }
      ]
    },
    {
      "cell_type": "code",
      "metadata": {
        "id": "hYSNdFSg-tw0",
        "colab_type": "code",
        "colab": {
          "base_uri": "https://localhost:8080/",
          "height": 34
        },
        "outputId": "2f1f0b91-164d-40e2-8344-27584cc22e38"
      },
      "source": [
        "df_train['Fees'].max()"
      ],
      "execution_count": 142,
      "outputs": [
        {
          "output_type": "execute_result",
          "data": {
            "text/plain": [
              "950"
            ]
          },
          "metadata": {
            "tags": []
          },
          "execution_count": 142
        }
      ]
    },
    {
      "cell_type": "code",
      "metadata": {
        "id": "y5GU4UME-1w8",
        "colab_type": "code",
        "colab": {
          "base_uri": "https://localhost:8080/",
          "height": 34
        },
        "outputId": "76e8abe5-2fe1-46f9-f468-543ee8bcc420"
      },
      "source": [
        "df_train['Fees'].mean()"
      ],
      "execution_count": 143,
      "outputs": [
        {
          "output_type": "execute_result",
          "data": {
            "text/plain": [
              "336.4247231367854"
            ]
          },
          "metadata": {
            "tags": []
          },
          "execution_count": 143
        }
      ]
    },
    {
      "cell_type": "code",
      "metadata": {
        "id": "f6h687NrjYXI",
        "colab_type": "code",
        "colab": {
          "base_uri": "https://localhost:8080/",
          "height": 294
        },
        "outputId": "0b2d5f63-21e5-48ea-c962-49d09b7842c2"
      },
      "source": [
        "# Doctor's fees with profile\n",
        "Doctor_pro_fee=pd.crosstab(df_train.Profile, df_train.Fees,margins=True)\n",
        "Doctor_pro_fee"
      ],
      "execution_count": 144,
      "outputs": [
        {
          "output_type": "execute_result",
          "data": {
            "text/html": [
              "<div>\n",
              "<style scoped>\n",
              "    .dataframe tbody tr th:only-of-type {\n",
              "        vertical-align: middle;\n",
              "    }\n",
              "\n",
              "    .dataframe tbody tr th {\n",
              "        vertical-align: top;\n",
              "    }\n",
              "\n",
              "    .dataframe thead th {\n",
              "        text-align: right;\n",
              "    }\n",
              "</style>\n",
              "<table border=\"1\" class=\"dataframe\">\n",
              "  <thead>\n",
              "    <tr style=\"text-align: right;\">\n",
              "      <th>Fees</th>\n",
              "      <th>50</th>\n",
              "      <th>80</th>\n",
              "      <th>100</th>\n",
              "      <th>125</th>\n",
              "      <th>150</th>\n",
              "      <th>200</th>\n",
              "      <th>220</th>\n",
              "      <th>250</th>\n",
              "      <th>260</th>\n",
              "      <th>300</th>\n",
              "      <th>350</th>\n",
              "      <th>380</th>\n",
              "      <th>400</th>\n",
              "      <th>430</th>\n",
              "      <th>450</th>\n",
              "      <th>500</th>\n",
              "      <th>550</th>\n",
              "      <th>600</th>\n",
              "      <th>650</th>\n",
              "      <th>700</th>\n",
              "      <th>750</th>\n",
              "      <th>800</th>\n",
              "      <th>900</th>\n",
              "      <th>920</th>\n",
              "      <th>950</th>\n",
              "      <th>All</th>\n",
              "    </tr>\n",
              "    <tr>\n",
              "      <th>Profile</th>\n",
              "      <th></th>\n",
              "      <th></th>\n",
              "      <th></th>\n",
              "      <th></th>\n",
              "      <th></th>\n",
              "      <th></th>\n",
              "      <th></th>\n",
              "      <th></th>\n",
              "      <th></th>\n",
              "      <th></th>\n",
              "      <th></th>\n",
              "      <th></th>\n",
              "      <th></th>\n",
              "      <th></th>\n",
              "      <th></th>\n",
              "      <th></th>\n",
              "      <th></th>\n",
              "      <th></th>\n",
              "      <th></th>\n",
              "      <th></th>\n",
              "      <th></th>\n",
              "      <th></th>\n",
              "      <th></th>\n",
              "      <th></th>\n",
              "      <th></th>\n",
              "      <th></th>\n",
              "    </tr>\n",
              "  </thead>\n",
              "  <tbody>\n",
              "    <tr>\n",
              "      <th>Ayurveda</th>\n",
              "      <td>0</td>\n",
              "      <td>0</td>\n",
              "      <td>30</td>\n",
              "      <td>0</td>\n",
              "      <td>16</td>\n",
              "      <td>33</td>\n",
              "      <td>0</td>\n",
              "      <td>17</td>\n",
              "      <td>0</td>\n",
              "      <td>44</td>\n",
              "      <td>9</td>\n",
              "      <td>0</td>\n",
              "      <td>16</td>\n",
              "      <td>0</td>\n",
              "      <td>0</td>\n",
              "      <td>68</td>\n",
              "      <td>0</td>\n",
              "      <td>4</td>\n",
              "      <td>0</td>\n",
              "      <td>0</td>\n",
              "      <td>1</td>\n",
              "      <td>1</td>\n",
              "      <td>0</td>\n",
              "      <td>0</td>\n",
              "      <td>0</td>\n",
              "      <td>239</td>\n",
              "    </tr>\n",
              "    <tr>\n",
              "      <th>Dentist</th>\n",
              "      <td>0</td>\n",
              "      <td>1</td>\n",
              "      <td>280</td>\n",
              "      <td>0</td>\n",
              "      <td>45</td>\n",
              "      <td>373</td>\n",
              "      <td>0</td>\n",
              "      <td>84</td>\n",
              "      <td>0</td>\n",
              "      <td>197</td>\n",
              "      <td>8</td>\n",
              "      <td>0</td>\n",
              "      <td>37</td>\n",
              "      <td>0</td>\n",
              "      <td>2</td>\n",
              "      <td>156</td>\n",
              "      <td>2</td>\n",
              "      <td>10</td>\n",
              "      <td>0</td>\n",
              "      <td>3</td>\n",
              "      <td>0</td>\n",
              "      <td>12</td>\n",
              "      <td>1</td>\n",
              "      <td>0</td>\n",
              "      <td>0</td>\n",
              "      <td>1211</td>\n",
              "    </tr>\n",
              "    <tr>\n",
              "      <th>Dermatologists</th>\n",
              "      <td>0</td>\n",
              "      <td>0</td>\n",
              "      <td>117</td>\n",
              "      <td>0</td>\n",
              "      <td>3</td>\n",
              "      <td>20</td>\n",
              "      <td>0</td>\n",
              "      <td>22</td>\n",
              "      <td>0</td>\n",
              "      <td>74</td>\n",
              "      <td>19</td>\n",
              "      <td>0</td>\n",
              "      <td>90</td>\n",
              "      <td>0</td>\n",
              "      <td>10</td>\n",
              "      <td>201</td>\n",
              "      <td>4</td>\n",
              "      <td>52</td>\n",
              "      <td>5</td>\n",
              "      <td>48</td>\n",
              "      <td>9</td>\n",
              "      <td>36</td>\n",
              "      <td>2</td>\n",
              "      <td>0</td>\n",
              "      <td>0</td>\n",
              "      <td>712</td>\n",
              "    </tr>\n",
              "    <tr>\n",
              "      <th>ENT Specialist</th>\n",
              "      <td>0</td>\n",
              "      <td>0</td>\n",
              "      <td>56</td>\n",
              "      <td>0</td>\n",
              "      <td>3</td>\n",
              "      <td>9</td>\n",
              "      <td>1</td>\n",
              "      <td>8</td>\n",
              "      <td>0</td>\n",
              "      <td>49</td>\n",
              "      <td>13</td>\n",
              "      <td>1</td>\n",
              "      <td>47</td>\n",
              "      <td>0</td>\n",
              "      <td>7</td>\n",
              "      <td>67</td>\n",
              "      <td>3</td>\n",
              "      <td>27</td>\n",
              "      <td>5</td>\n",
              "      <td>25</td>\n",
              "      <td>0</td>\n",
              "      <td>29</td>\n",
              "      <td>2</td>\n",
              "      <td>0</td>\n",
              "      <td>0</td>\n",
              "      <td>352</td>\n",
              "    </tr>\n",
              "    <tr>\n",
              "      <th>General Medicine</th>\n",
              "      <td>0</td>\n",
              "      <td>0</td>\n",
              "      <td>106</td>\n",
              "      <td>1</td>\n",
              "      <td>8</td>\n",
              "      <td>33</td>\n",
              "      <td>0</td>\n",
              "      <td>22</td>\n",
              "      <td>1</td>\n",
              "      <td>65</td>\n",
              "      <td>23</td>\n",
              "      <td>1</td>\n",
              "      <td>53</td>\n",
              "      <td>1</td>\n",
              "      <td>6</td>\n",
              "      <td>89</td>\n",
              "      <td>3</td>\n",
              "      <td>35</td>\n",
              "      <td>7</td>\n",
              "      <td>16</td>\n",
              "      <td>11</td>\n",
              "      <td>17</td>\n",
              "      <td>5</td>\n",
              "      <td>0</td>\n",
              "      <td>1</td>\n",
              "      <td>504</td>\n",
              "    </tr>\n",
              "    <tr>\n",
              "      <th>Homeopath</th>\n",
              "      <td>2</td>\n",
              "      <td>0</td>\n",
              "      <td>70</td>\n",
              "      <td>0</td>\n",
              "      <td>10</td>\n",
              "      <td>37</td>\n",
              "      <td>0</td>\n",
              "      <td>13</td>\n",
              "      <td>0</td>\n",
              "      <td>55</td>\n",
              "      <td>7</td>\n",
              "      <td>0</td>\n",
              "      <td>12</td>\n",
              "      <td>0</td>\n",
              "      <td>23</td>\n",
              "      <td>67</td>\n",
              "      <td>1</td>\n",
              "      <td>5</td>\n",
              "      <td>0</td>\n",
              "      <td>7</td>\n",
              "      <td>4</td>\n",
              "      <td>6</td>\n",
              "      <td>3</td>\n",
              "      <td>1</td>\n",
              "      <td>0</td>\n",
              "      <td>323</td>\n",
              "    </tr>\n",
              "    <tr>\n",
              "      <th>All</th>\n",
              "      <td>2</td>\n",
              "      <td>1</td>\n",
              "      <td>659</td>\n",
              "      <td>1</td>\n",
              "      <td>85</td>\n",
              "      <td>505</td>\n",
              "      <td>1</td>\n",
              "      <td>166</td>\n",
              "      <td>1</td>\n",
              "      <td>484</td>\n",
              "      <td>79</td>\n",
              "      <td>2</td>\n",
              "      <td>255</td>\n",
              "      <td>1</td>\n",
              "      <td>48</td>\n",
              "      <td>648</td>\n",
              "      <td>13</td>\n",
              "      <td>133</td>\n",
              "      <td>17</td>\n",
              "      <td>99</td>\n",
              "      <td>25</td>\n",
              "      <td>101</td>\n",
              "      <td>13</td>\n",
              "      <td>1</td>\n",
              "      <td>1</td>\n",
              "      <td>3341</td>\n",
              "    </tr>\n",
              "  </tbody>\n",
              "</table>\n",
              "</div>"
            ],
            "text/plain": [
              "Fees              50  80  100  125  150  200  ...  750  800  900  920  950   All\n",
              "Profile                                       ...                               \n",
              "Ayurveda           0   0   30    0   16   33  ...    1    1    0    0    0   239\n",
              "Dentist            0   1  280    0   45  373  ...    0   12    1    0    0  1211\n",
              "Dermatologists     0   0  117    0    3   20  ...    9   36    2    0    0   712\n",
              "ENT Specialist     0   0   56    0    3    9  ...    0   29    2    0    0   352\n",
              "General Medicine   0   0  106    1    8   33  ...   11   17    5    0    1   504\n",
              "Homeopath          2   0   70    0   10   37  ...    4    6    3    1    0   323\n",
              "All                2   1  659    1   85  505  ...   25  101   13    1    1  3341\n",
              "\n",
              "[7 rows x 26 columns]"
            ]
          },
          "metadata": {
            "tags": []
          },
          "execution_count": 144
        }
      ]
    },
    {
      "cell_type": "code",
      "metadata": {
        "id": "3q22wlcwj3hR",
        "colab_type": "code",
        "colab": {
          "base_uri": "https://localhost:8080/",
          "height": 446
        },
        "outputId": "5fcf6af6-aff4-47f8-cf47-838819ad1bb9"
      },
      "source": [
        "# Doctor's profile in diffrent cities\n",
        "Doctor_Area=pd.crosstab(df_train.Place, df_train.Profile,margins=True)\n",
        "Doctor_Area"
      ],
      "execution_count": 145,
      "outputs": [
        {
          "output_type": "execute_result",
          "data": {
            "text/html": [
              "<div>\n",
              "<style scoped>\n",
              "    .dataframe tbody tr th:only-of-type {\n",
              "        vertical-align: middle;\n",
              "    }\n",
              "\n",
              "    .dataframe tbody tr th {\n",
              "        vertical-align: top;\n",
              "    }\n",
              "\n",
              "    .dataframe thead th {\n",
              "        text-align: right;\n",
              "    }\n",
              "</style>\n",
              "<table border=\"1\" class=\"dataframe\">\n",
              "  <thead>\n",
              "    <tr style=\"text-align: right;\">\n",
              "      <th>Profile</th>\n",
              "      <th>Ayurveda</th>\n",
              "      <th>Dentist</th>\n",
              "      <th>Dermatologists</th>\n",
              "      <th>ENT Specialist</th>\n",
              "      <th>General Medicine</th>\n",
              "      <th>Homeopath</th>\n",
              "      <th>All</th>\n",
              "    </tr>\n",
              "    <tr>\n",
              "      <th>Place</th>\n",
              "      <th></th>\n",
              "      <th></th>\n",
              "      <th></th>\n",
              "      <th></th>\n",
              "      <th></th>\n",
              "      <th></th>\n",
              "      <th></th>\n",
              "    </tr>\n",
              "  </thead>\n",
              "  <tbody>\n",
              "    <tr>\n",
              "      <th>AECS Layout, Bangalore</th>\n",
              "      <td>0</td>\n",
              "      <td>1</td>\n",
              "      <td>0</td>\n",
              "      <td>0</td>\n",
              "      <td>0</td>\n",
              "      <td>0</td>\n",
              "      <td>1</td>\n",
              "    </tr>\n",
              "    <tr>\n",
              "      <th>AS Rao Nagar, Hyderabad</th>\n",
              "      <td>1</td>\n",
              "      <td>3</td>\n",
              "      <td>5</td>\n",
              "      <td>0</td>\n",
              "      <td>0</td>\n",
              "      <td>2</td>\n",
              "      <td>11</td>\n",
              "    </tr>\n",
              "    <tr>\n",
              "      <th>Abbigere, Bangalore</th>\n",
              "      <td>1</td>\n",
              "      <td>0</td>\n",
              "      <td>0</td>\n",
              "      <td>0</td>\n",
              "      <td>0</td>\n",
              "      <td>0</td>\n",
              "      <td>1</td>\n",
              "    </tr>\n",
              "    <tr>\n",
              "      <th>Abids, Hyderabad</th>\n",
              "      <td>0</td>\n",
              "      <td>0</td>\n",
              "      <td>0</td>\n",
              "      <td>0</td>\n",
              "      <td>1</td>\n",
              "      <td>0</td>\n",
              "      <td>1</td>\n",
              "    </tr>\n",
              "    <tr>\n",
              "      <th>Adambakkam, Chennai</th>\n",
              "      <td>0</td>\n",
              "      <td>2</td>\n",
              "      <td>2</td>\n",
              "      <td>0</td>\n",
              "      <td>1</td>\n",
              "      <td>1</td>\n",
              "      <td>6</td>\n",
              "    </tr>\n",
              "    <tr>\n",
              "      <th>...</th>\n",
              "      <td>...</td>\n",
              "      <td>...</td>\n",
              "      <td>...</td>\n",
              "      <td>...</td>\n",
              "      <td>...</td>\n",
              "      <td>...</td>\n",
              "      <td>...</td>\n",
              "    </tr>\n",
              "    <tr>\n",
              "      <th>Yelahanka New Town, Bangalore</th>\n",
              "      <td>0</td>\n",
              "      <td>2</td>\n",
              "      <td>1</td>\n",
              "      <td>0</td>\n",
              "      <td>1</td>\n",
              "      <td>1</td>\n",
              "      <td>5</td>\n",
              "    </tr>\n",
              "    <tr>\n",
              "      <th>Yelahanka, Bangalore</th>\n",
              "      <td>7</td>\n",
              "      <td>0</td>\n",
              "      <td>1</td>\n",
              "      <td>1</td>\n",
              "      <td>4</td>\n",
              "      <td>3</td>\n",
              "      <td>16</td>\n",
              "    </tr>\n",
              "    <tr>\n",
              "      <th>Yeshwanthpur, Bangalore</th>\n",
              "      <td>3</td>\n",
              "      <td>1</td>\n",
              "      <td>2</td>\n",
              "      <td>4</td>\n",
              "      <td>7</td>\n",
              "      <td>0</td>\n",
              "      <td>17</td>\n",
              "    </tr>\n",
              "    <tr>\n",
              "      <th>Yousufguda, Hyderabad</th>\n",
              "      <td>0</td>\n",
              "      <td>1</td>\n",
              "      <td>0</td>\n",
              "      <td>1</td>\n",
              "      <td>0</td>\n",
              "      <td>0</td>\n",
              "      <td>2</td>\n",
              "    </tr>\n",
              "    <tr>\n",
              "      <th>All</th>\n",
              "      <td>239</td>\n",
              "      <td>1211</td>\n",
              "      <td>712</td>\n",
              "      <td>352</td>\n",
              "      <td>504</td>\n",
              "      <td>323</td>\n",
              "      <td>3341</td>\n",
              "    </tr>\n",
              "  </tbody>\n",
              "</table>\n",
              "<p>600 rows × 7 columns</p>\n",
              "</div>"
            ],
            "text/plain": [
              "Profile                        Ayurveda  Dentist  ...  Homeopath   All\n",
              "Place                                             ...                 \n",
              "AECS Layout, Bangalore                0        1  ...          0     1\n",
              "AS Rao Nagar, Hyderabad               1        3  ...          2    11\n",
              "Abbigere, Bangalore                   1        0  ...          0     1\n",
              "Abids, Hyderabad                      0        0  ...          0     1\n",
              "Adambakkam, Chennai                   0        2  ...          1     6\n",
              "...                                 ...      ...  ...        ...   ...\n",
              "Yelahanka New Town, Bangalore         0        2  ...          1     5\n",
              "Yelahanka, Bangalore                  7        0  ...          3    16\n",
              "Yeshwanthpur, Bangalore               3        1  ...          0    17\n",
              "Yousufguda, Hyderabad                 0        1  ...          0     2\n",
              "All                                 239     1211  ...        323  3341\n",
              "\n",
              "[600 rows x 7 columns]"
            ]
          },
          "metadata": {
            "tags": []
          },
          "execution_count": 145
        }
      ]
    },
    {
      "cell_type": "code",
      "metadata": {
        "id": "7wXhdIzinZNk",
        "colab_type": "code",
        "colab": {
          "base_uri": "https://localhost:8080/",
          "height": 296
        },
        "outputId": "c5bd3be7-317b-45c8-dd23-6e082bf0fbba"
      },
      "source": [
        "sns.lineplot( x=df_train[\"Experience\"], y=df_train[\"Fees\"])"
      ],
      "execution_count": 146,
      "outputs": [
        {
          "output_type": "execute_result",
          "data": {
            "text/plain": [
              "<matplotlib.axes._subplots.AxesSubplot at 0x7f9a8897c390>"
            ]
          },
          "metadata": {
            "tags": []
          },
          "execution_count": 146
        },
        {
          "output_type": "display_data",
          "data": {
            "image/png": "[encoded data removed]",
            "text/plain": [
              "<Figure size 432x288 with 1 Axes>"
            ]
          },
          "metadata": {
            "tags": [],
            "needs_background": "light"
          }
        }
      ]
    },
    {
      "cell_type": "code",
      "metadata": {
        "id": "j1w_a1F6_oiT",
        "colab_type": "code",
        "colab": {
          "base_uri": "https://localhost:8080/",
          "height": 296
        },
        "outputId": "7a6b4a1f-cb95-415e-f6c8-8ac0ff924da1"
      },
      "source": [
        "sns.countplot(x='Fees',hue='Profile',data=df_train)"
      ],
      "execution_count": 147,
      "outputs": [
        {
          "output_type": "execute_result",
          "data": {
            "text/plain": [
              "<matplotlib.axes._subplots.AxesSubplot at 0x7f9a889f5128>"
            ]
          },
          "metadata": {
            "tags": []
          },
          "execution_count": 147
        },
        {
          "output_type": "display_data",
          "data": {
            "image/png": "[encoded data removed]",
            "text/plain": [
              "<Figure size 432x288 with 1 Axes>"
            ]
          },
          "metadata": {
            "tags": [],
            "needs_background": "light"
          }
        }
      ]
    },
    {
      "cell_type": "code",
      "metadata": {
        "id": "ogr7_kwPpTpY",
        "colab_type": "code",
        "colab": {
          "base_uri": "https://localhost:8080/",
          "height": 586
        },
        "outputId": "726fb659-850c-4472-f53c-64b78937d7d4"
      },
      "source": [
        " sns.pairplot(df_train, diag_kind='kde', plot_kws={'alpha': 0.2})"
      ],
      "execution_count": 148,
      "outputs": [
        {
          "output_type": "execute_result",
          "data": {
            "text/plain": [
              "<seaborn.axisgrid.PairGrid at 0x7f9a88af4c88>"
            ]
          },
          "metadata": {
            "tags": []
          },
          "execution_count": 148
        },
        {
          "output_type": "display_data",
          "data": {
            "image/png": "[encoded data removed]",
            "text/plain": [
              "<Figure size 540x540 with 12 Axes>"
            ]
          },
          "metadata": {
            "tags": [],
            "needs_background": "light"
          }
        }
      ]
    },
    {
      "cell_type": "code",
      "metadata": {
        "id": "wzkfPAoZAh6T",
        "colab_type": "code",
        "colab": {
          "base_uri": "https://localhost:8080/",
          "height": 282
        },
        "outputId": "360bdfb4-1544-443b-e90b-5cfb4a1ad515"
      },
      "source": [
        "df1 = pd.DataFrame(np.random.randn(10, 3).cumsum(0),\n",
        "columns=['Fees', 'Experience', 'Rating'],\n",
        "index=np.arange(0, 1000, 100))\n",
        "df1.plot()"
      ],
      "execution_count": 149,
      "outputs": [
        {
          "output_type": "execute_result",
          "data": {
            "text/plain": [
              "<matplotlib.axes._subplots.AxesSubplot at 0x7f9a89876e10>"
            ]
          },
          "metadata": {
            "tags": []
          },
          "execution_count": 149
        },
        {
          "output_type": "display_data",
          "data": {
            "image/png": "[encoded data removed]",
            "text/plain": [
              "<Figure size 432x288 with 1 Axes>"
            ]
          },
          "metadata": {
            "tags": [],
            "needs_background": "light"
          }
        }
      ]
    },
    {
      "cell_type": "code",
      "metadata": {
        "id": "wxzdynQVAOa5",
        "colab_type": "code",
        "colab": {
          "base_uri": "https://localhost:8080/",
          "height": 866
        },
        "outputId": "83a345fc-56e0-4a45-bc37-dbd22d96f75b"
      },
      "source": [
        "corr_hmap=df_train.corr()\n",
        "plt.figure(figsize=(20,15))\n",
        "sns.heatmap(corr_hmap,annot=True)\n",
        "plt.show()"
      ],
      "execution_count": 150,
      "outputs": [
        {
          "output_type": "display_data",
          "data": {
            "image/png": "[encoded data removed]",
            "text/plain": [
              "<Figure size 1440x1080 with 2 Axes>"
            ]
          },
          "metadata": {
            "tags": [],
            "needs_background": "light"
          }
        }
      ]
    },
    {
      "cell_type": "code",
      "metadata": {
        "id": "3rUytgjMqd3M",
        "colab_type": "code",
        "colab": {}
      },
      "source": [
        "from sklearn.preprocessing import LabelEncoder\n",
        "labelencoder=LabelEncoder()\n",
        "for column in df_train.columns:\n",
        "    df_train[column] = labelencoder.fit_transform(df_train[column])\n",
        "for column in df_test.columns:\n",
        "    df_test[column] = labelencoder.fit_transform(df_test[column])"
      ],
      "execution_count": 151,
      "outputs": []
    },
    {
      "cell_type": "code",
      "metadata": {
        "id": "EknmJ9kbqzGu",
        "colab_type": "code",
        "colab": {
          "base_uri": "https://localhost:8080/",
          "height": 52
        },
        "outputId": "5b319d5d-affa-40a1-e96d-2f5edc448a25"
      },
      "source": [
        "from scipy.stats import zscore\n",
        "z_score=abs(zscore(df_train))\n",
        "print(df_train.shape)\n",
        "df1=df_train.loc[(z_score<3).all(axis=1)]\n",
        "print(df1.shape)"
      ],
      "execution_count": 152,
      "outputs": [
        {
          "output_type": "stream",
          "text": [
            "(3341, 7)\n",
            "(3214, 7)\n"
          ],
          "name": "stdout"
        }
      ]
    },
    {
      "cell_type": "code",
      "metadata": {
        "id": "fItvJK2ZrKXm",
        "colab_type": "code",
        "colab": {
          "base_uri": "https://localhost:8080/",
          "height": 52
        },
        "outputId": "461995cb-16bf-40b3-9d5b-7bc44a53ba45"
      },
      "source": [
        "from scipy.stats import zscore\n",
        "z_score=abs(zscore(df_test))\n",
        "print(df_test.shape)\n",
        "df2=df_test.loc[(z_score<3).all(axis=1)]\n",
        "print(df2.shape)"
      ],
      "execution_count": 153,
      "outputs": [
        {
          "output_type": "stream",
          "text": [
            "(1153, 6)\n",
            "(1103, 6)\n"
          ],
          "name": "stdout"
        }
      ]
    },
    {
      "cell_type": "code",
      "metadata": {
        "id": "u6hwfOS9rcBJ",
        "colab_type": "code",
        "colab": {}
      },
      "source": [
        "x=df1.iloc[:,0:-1]\n",
        "y=df1.iloc[:,-1]"
      ],
      "execution_count": 154,
      "outputs": []
    },
    {
      "cell_type": "code",
      "metadata": {
        "id": "Jl2E7uOdsbNW",
        "colab_type": "code",
        "colab": {
          "base_uri": "https://localhost:8080/",
          "height": 450
        },
        "outputId": "fea9510c-bb01-45a8-cc44-5dd999151081"
      },
      "source": [
        "x,y"
      ],
      "execution_count": 155,
      "outputs": [
        {
          "output_type": "execute_result",
          "data": {
            "text/plain": [
              "(      Qualification  Experience  Rating  Place  Profile  Miscellaneous_Info\n",
              " 0               297          23      51    216        5                 130\n",
              " 1                32          11      49    591        0                1422\n",
              " 3               330          11      45     55        0                1695\n",
              " 4                 3          19      51    241        0                 253\n",
              " 7                63           9      50     28        1                1943\n",
              " ...             ...         ...     ...    ...      ...                 ...\n",
              " 5953            863          34      42    317        5                 758\n",
              " 5956            737          18      49     57        3                1385\n",
              " 5958            407          40      48    152        4                1173\n",
              " 5959            643          14      40    581        4                2202\n",
              " 5960            167          16      51    424        1                1595\n",
              " \n",
              " [3214 rows x 6 columns], 0        2\n",
              " 1       10\n",
              " 3        7\n",
              " 4        7\n",
              " 7        5\n",
              "         ..\n",
              " 5953     2\n",
              " 5956     9\n",
              " 5958    17\n",
              " 5959     2\n",
              " 5960     5\n",
              " Name: Fees, Length: 3214, dtype: int64)"
            ]
          },
          "metadata": {
            "tags": []
          },
          "execution_count": 155
        }
      ]
    },
    {
      "cell_type": "code",
      "metadata": {
        "id": "SdgaMgvqscz0",
        "colab_type": "code",
        "colab": {}
      },
      "source": [
        "from sklearn.metrics import mean_squared_error as mse\n",
        "from sklearn.metrics import r2_score\n",
        "from math import sqrt\n",
        "from sklearn.model_selection import GridSearchCV\n",
        "from sklearn.model_selection import RandomizedSearchCV\n",
        "from sklearn.neighbors import KNeighborsRegressor\n",
        "from sklearn.linear_model import Ridge\n",
        "from sklearn.linear_model import Lasso\n",
        "from sklearn.tree import DecisionTreeRegressor\n",
        "from sklearn.ensemble import RandomForestRegressor\n",
        "from xgboost import XGBRegressor\n",
        "from sklearn.model_selection import KFold\n",
        "from sklearn.ensemble import GradientBoostingRegressor\n",
        "import sklearn.ensemble\n",
        "def mean_absolute_percentage_error(y_true, y_pred): \n",
        "    y_true, y_pred = np.array(y_true), np.array(y_pred)\n",
        "    return np.mean(np.abs((y_true - y_pred) / y_true)) * 100\n",
        "\n"
      ],
      "execution_count": 156,
      "outputs": []
    },
    {
      "cell_type": "code",
      "metadata": {
        "id": "FIIeok7HsqoK",
        "colab_type": "code",
        "colab": {}
      },
      "source": [
        "from sklearn.model_selection import train_test_split\n",
        "x_train, x_test, y_train, y_test = train_test_split(x, y, test_size = 0.3, random_state = 44)"
      ],
      "execution_count": 157,
      "outputs": []
    },
    {
      "cell_type": "code",
      "metadata": {
        "id": "dbmmP9hYs4Kt",
        "colab_type": "code",
        "colab": {
          "base_uri": "https://localhost:8080/",
          "height": 104
        },
        "outputId": "f2cb790d-7ab1-4bdb-b7c5-6064776b12bd"
      },
      "source": [
        "print(\"The size of training input is\", x_train.shape)\n",
        "print(\"The size of training output is\", y_train.shape)\n",
        "print(50 *'*')\n",
        "print(\"The size of testing input is\", x_test.shape)\n",
        "print(\"The size of testing output is\", y_test.shape)"
      ],
      "execution_count": 158,
      "outputs": [
        {
          "output_type": "stream",
          "text": [
            "The size of training input is (2249, 6)\n",
            "The size of training output is (2249,)\n",
            "**************************************************\n",
            "The size of testing input is (965, 6)\n",
            "The size of testing output is (965,)\n"
          ],
          "name": "stdout"
        }
      ]
    },
    {
      "cell_type": "code",
      "metadata": {
        "id": "KxyKrArjtE2d",
        "colab_type": "code",
        "colab": {
          "base_uri": "https://localhost:8080/",
          "height": 173
        },
        "outputId": "84b1edbf-07cc-4301-8b76-c05f5b49cc23"
      },
      "source": [
        "params ={'alpha' :[0.0001, 0.001, 0.01, 0.1, 1, 10, 100, 1000, 10000, 100000]}\n",
        "ridge_regressor =GridSearchCV(Ridge(), params ,cv =5,scoring = 'neg_mean_absolute_error', n_jobs =-1)\n",
        "ridge_regressor.fit(x_train ,y_train)"
      ],
      "execution_count": 159,
      "outputs": [
        {
          "output_type": "execute_result",
          "data": {
            "text/plain": [
              "GridSearchCV(cv=5, error_score=nan,\n",
              "             estimator=Ridge(alpha=1.0, copy_X=True, fit_intercept=True,\n",
              "                             max_iter=None, normalize=False, random_state=None,\n",
              "                             solver='auto', tol=0.001),\n",
              "             iid='deprecated', n_jobs=-1,\n",
              "             param_grid={'alpha': [0.0001, 0.001, 0.01, 0.1, 1, 10, 100, 1000,\n",
              "                                   10000, 100000]},\n",
              "             pre_dispatch='2*n_jobs', refit=True, return_train_score=False,\n",
              "             scoring='neg_mean_absolute_error', verbose=0)"
            ]
          },
          "metadata": {
            "tags": []
          },
          "execution_count": 159
        }
      ]
    },
    {
      "cell_type": "code",
      "metadata": {
        "id": "a7bm_G7WtgLI",
        "colab_type": "code",
        "colab": {}
      },
      "source": [
        "y_train_pred =ridge_regressor.predict(x_train) ##Predict train result\n",
        "y_test_pred =ridge_regressor.predict(x_test) ##Predict test result"
      ],
      "execution_count": 160,
      "outputs": []
    },
    {
      "cell_type": "code",
      "metadata": {
        "id": "RI-lKsBCtjbG",
        "colab_type": "code",
        "colab": {
          "base_uri": "https://localhost:8080/",
          "height": 121
        },
        "outputId": "dbd1e6fe-febc-47bb-adca-83b9feeee2f5"
      },
      "source": [
        "print(\"Train Results for Ridge Regressor Model:\")\n",
        "print(50 * '-')\n",
        "print(\"Root mean squared error: \", sqrt(mse(y_train.values, y_train_pred)))\n",
        "print(\"Mean absolute % error: \", round(mean_absolute_percentage_error(y_train.values, y_train_pred)))\n",
        "print(\"R-squared: \", r2_score(y_train.values, y_train_pred))"
      ],
      "execution_count": 161,
      "outputs": [
        {
          "output_type": "stream",
          "text": [
            "Train Results for Ridge Regressor Model:\n",
            "--------------------------------------------------\n",
            "Root mean squared error:  5.499636799915962\n",
            "Mean absolute % error:  inf\n",
            "R-squared:  0.0711843144393648\n"
          ],
          "name": "stdout"
        },
        {
          "output_type": "stream",
          "text": [
            "/usr/local/lib/python3.6/dist-packages/ipykernel_launcher.py:17: RuntimeWarning: divide by zero encountered in true_divide\n"
          ],
          "name": "stderr"
        }
      ]
    },
    {
      "cell_type": "code",
      "metadata": {
        "id": "mVALGR5UtnNQ",
        "colab_type": "code",
        "colab": {
          "base_uri": "https://localhost:8080/",
          "height": 104
        },
        "outputId": "ce8daffc-e316-4e25-cb65-8b8e756e5f16"
      },
      "source": [
        "print(\"Test Results for Ridge Regressor Model:\")\n",
        "print(50 * '-')\n",
        "print(\"Root mean squared error: \", sqrt(mse(y_test, y_test_pred)))\n",
        "print(\"Mean absolute % error: \", round(mean_absolute_percentage_error(y_test, y_test_pred)))\n",
        "print(\"R-squared: \", r2_score(y_test, y_test_pred))"
      ],
      "execution_count": 162,
      "outputs": [
        {
          "output_type": "stream",
          "text": [
            "Test Results for Ridge Regressor Model:\n",
            "--------------------------------------------------\n",
            "Root mean squared error:  5.559892150872795\n",
            "Mean absolute % error:  101.0\n",
            "R-squared:  0.06169051742433462\n"
          ],
          "name": "stdout"
        }
      ]
    },
    {
      "cell_type": "code",
      "metadata": {
        "id": "jHQxzlVptrgs",
        "colab_type": "code",
        "colab": {
          "base_uri": "https://localhost:8080/",
          "height": 190
        },
        "outputId": "8a312b1b-8440-4ec4-98ac-15adab723ead"
      },
      "source": [
        "params ={'alpha' :[0.0001, 0.001, 0.01, 0.1, 1, 10, 100, 1000, 10000, 100000]}\n",
        "lasso_regressor =GridSearchCV(Lasso(), params ,cv =15,scoring = 'neg_mean_absolute_error', n_jobs =-1)\n",
        "lasso_regressor.fit(x_train ,y_train)"
      ],
      "execution_count": 163,
      "outputs": [
        {
          "output_type": "execute_result",
          "data": {
            "text/plain": [
              "GridSearchCV(cv=15, error_score=nan,\n",
              "             estimator=Lasso(alpha=1.0, copy_X=True, fit_intercept=True,\n",
              "                             max_iter=1000, normalize=False, positive=False,\n",
              "                             precompute=False, random_state=None,\n",
              "                             selection='cyclic', tol=0.0001, warm_start=False),\n",
              "             iid='deprecated', n_jobs=-1,\n",
              "             param_grid={'alpha': [0.0001, 0.001, 0.01, 0.1, 1, 10, 100, 1000,\n",
              "                                   10000, 100000]},\n",
              "             pre_dispatch='2*n_jobs', refit=True, return_train_score=False,\n",
              "             scoring='neg_mean_absolute_error', verbose=0)"
            ]
          },
          "metadata": {
            "tags": []
          },
          "execution_count": 163
        }
      ]
    },
    {
      "cell_type": "code",
      "metadata": {
        "id": "CtM9ZKhLtxkn",
        "colab_type": "code",
        "colab": {}
      },
      "source": [
        "y_train_pred =lasso_regressor.predict(x_train) ##Predict train result\n",
        "y_test_pred =lasso_regressor.predict(x_test) ##Predict test result"
      ],
      "execution_count": 164,
      "outputs": []
    },
    {
      "cell_type": "code",
      "metadata": {
        "id": "22eUktWdt1ta",
        "colab_type": "code",
        "colab": {
          "base_uri": "https://localhost:8080/",
          "height": 121
        },
        "outputId": "48ded2b8-53dd-42cb-ee03-e0250c57a337"
      },
      "source": [
        "print(\"Train Results for Lasso Regressor Model:\")\n",
        "print(50 * '-')\n",
        "print(\"Root mean squared error: \", sqrt(mse(y_train.values, y_train_pred)))\n",
        "print(\"Mean absolute % error: \", round(mean_absolute_percentage_error(y_train.values, y_train_pred)))\n",
        "print(\"R-squared: \", r2_score(y_train.values, y_train_pred))"
      ],
      "execution_count": 165,
      "outputs": [
        {
          "output_type": "stream",
          "text": [
            "Train Results for Lasso Regressor Model:\n",
            "--------------------------------------------------\n",
            "Root mean squared error:  5.499153253087518\n",
            "Mean absolute % error:  inf\n",
            "R-squared:  0.07134763654624621\n"
          ],
          "name": "stdout"
        },
        {
          "output_type": "stream",
          "text": [
            "/usr/local/lib/python3.6/dist-packages/ipykernel_launcher.py:17: RuntimeWarning: divide by zero encountered in true_divide\n"
          ],
          "name": "stderr"
        }
      ]
    },
    {
      "cell_type": "code",
      "metadata": {
        "id": "s0SMOp9Vt5fM",
        "colab_type": "code",
        "colab": {
          "base_uri": "https://localhost:8080/",
          "height": 225
        },
        "outputId": "48c691ff-3969-4b3b-83de-a3aa33252c1f"
      },
      "source": [
        "k_range = list(range(1, 30))\n",
        "params = dict(n_neighbors = k_range)\n",
        "knn_regressor = GridSearchCV(KNeighborsRegressor(), params, cv =10, scoring = 'neg_mean_squared_error')\n",
        "knn_regressor.fit(x_train, y_train)"
      ],
      "execution_count": 166,
      "outputs": [
        {
          "output_type": "execute_result",
          "data": {
            "text/plain": [
              "GridSearchCV(cv=10, error_score=nan,\n",
              "             estimator=KNeighborsRegressor(algorithm='auto', leaf_size=30,\n",
              "                                           metric='minkowski',\n",
              "                                           metric_params=None, n_jobs=None,\n",
              "                                           n_neighbors=5, p=2,\n",
              "                                           weights='uniform'),\n",
              "             iid='deprecated', n_jobs=None,\n",
              "             param_grid={'n_neighbors': [1, 2, 3, 4, 5, 6, 7, 8, 9, 10, 11, 12,\n",
              "                                         13, 14, 15, 16, 17, 18, 19, 20, 21, 22,\n",
              "                                         23, 24, 25, 26, 27, 28, 29]},\n",
              "             pre_dispatch='2*n_jobs', refit=True, return_train_score=False,\n",
              "             scoring='neg_mean_squared_error', verbose=0)"
            ]
          },
          "metadata": {
            "tags": []
          },
          "execution_count": 166
        }
      ]
    },
    {
      "cell_type": "code",
      "metadata": {
        "id": "pfEKiEu9xhFr",
        "colab_type": "code",
        "colab": {}
      },
      "source": [
        "y_train_pred =knn_regressor.predict(x_train) ##Predict train result\n",
        "y_test_pred =knn_regressor.predict(x_test) ##Predict test result"
      ],
      "execution_count": 167,
      "outputs": []
    },
    {
      "cell_type": "code",
      "metadata": {
        "id": "ksIOU3jrxkb6",
        "colab_type": "code",
        "colab": {
          "base_uri": "https://localhost:8080/",
          "height": 121
        },
        "outputId": "04194533-7614-413d-cbe7-35949709446d"
      },
      "source": [
        "print(\"Train Results for KNN Regressor Model:\")\n",
        "print(50 * '-')\n",
        "print(\"Root mean squared error: \", sqrt(mse(y_train.values, y_train_pred)))\n",
        "print(\"Mean absolute % error: \", round(mean_absolute_percentage_error(y_train.values, y_train_pred)))\n",
        "print(\"R-squared: \", r2_score(y_train.values, y_train_pred))"
      ],
      "execution_count": 168,
      "outputs": [
        {
          "output_type": "stream",
          "text": [
            "Train Results for KNN Regressor Model:\n",
            "--------------------------------------------------\n",
            "Root mean squared error:  5.2412829857189225\n",
            "Mean absolute % error:  inf\n",
            "R-squared:  0.1563996725176896\n"
          ],
          "name": "stdout"
        },
        {
          "output_type": "stream",
          "text": [
            "/usr/local/lib/python3.6/dist-packages/ipykernel_launcher.py:17: RuntimeWarning: divide by zero encountered in true_divide\n"
          ],
          "name": "stderr"
        }
      ]
    },
    {
      "cell_type": "code",
      "metadata": {
        "id": "htKQQJ04xwyq",
        "colab_type": "code",
        "colab": {
          "base_uri": "https://localhost:8080/",
          "height": 104
        },
        "outputId": "f373fc2e-36dd-42fd-f137-131f38bba26c"
      },
      "source": [
        "print(\"Test Results for KNN Regressor Model:\")\n",
        "print(50 * '-')\n",
        "print(\"Root mean squared error: \", sqrt(mse(y_test, y_test_pred)))\n",
        "print(\"Mean absolute % errorr: \", round(mean_absolute_percentage_error(y_test, y_test_pred)))\n",
        "print(\"R-squared: \", r2_score(y_test, y_test_pred))"
      ],
      "execution_count": 169,
      "outputs": [
        {
          "output_type": "stream",
          "text": [
            "Test Results for KNN Regressor Model:\n",
            "--------------------------------------------------\n",
            "Root mean squared error:  5.457337638271736\n",
            "Mean absolute % errorr:  98.0\n",
            "R-squared:  0.09598628705479872\n"
          ],
          "name": "stdout"
        }
      ]
    },
    {
      "cell_type": "code",
      "metadata": {
        "id": "UZjvlCVDx0vC",
        "colab_type": "code",
        "colab": {
          "base_uri": "https://localhost:8080/",
          "height": 329
        },
        "outputId": "1fac3590-7830-4e71-b31e-93e5cd96d83e"
      },
      "source": [
        "depth  =list(range(3,30))\n",
        "param_grid =dict(max_depth =depth)\n",
        "tree =GridSearchCV(DecisionTreeRegressor(),param_grid,cv =10)\n",
        "tree.fit(x_train,y_train)"
      ],
      "execution_count": 170,
      "outputs": [
        {
          "output_type": "execute_result",
          "data": {
            "text/plain": [
              "GridSearchCV(cv=10, error_score=nan,\n",
              "             estimator=DecisionTreeRegressor(ccp_alpha=0.0, criterion='mse',\n",
              "                                             max_depth=None, max_features=None,\n",
              "                                             max_leaf_nodes=None,\n",
              "                                             min_impurity_decrease=0.0,\n",
              "                                             min_impurity_split=None,\n",
              "                                             min_samples_leaf=1,\n",
              "                                             min_samples_split=2,\n",
              "                                             min_weight_fraction_leaf=0.0,\n",
              "                                             presort='deprecated',\n",
              "                                             random_state=None,\n",
              "                                             splitter='best'),\n",
              "             iid='deprecated', n_jobs=None,\n",
              "             param_grid={'max_depth': [3, 4, 5, 6, 7, 8, 9, 10, 11, 12, 13, 14,\n",
              "                                       15, 16, 17, 18, 19, 20, 21, 22, 23, 24,\n",
              "                                       25, 26, 27, 28, 29]},\n",
              "             pre_dispatch='2*n_jobs', refit=True, return_train_score=False,\n",
              "             scoring=None, verbose=0)"
            ]
          },
          "metadata": {
            "tags": []
          },
          "execution_count": 170
        }
      ]
    },
    {
      "cell_type": "code",
      "metadata": {
        "id": "WgtuqtSgx5hF",
        "colab_type": "code",
        "colab": {}
      },
      "source": [
        "y_train_pred =tree.predict(x_train) ##Predict train result\n",
        "y_test_pred =tree.predict(x_test) ##Predict test result"
      ],
      "execution_count": 171,
      "outputs": []
    },
    {
      "cell_type": "code",
      "metadata": {
        "id": "AaWcsoYex-k3",
        "colab_type": "code",
        "colab": {
          "base_uri": "https://localhost:8080/",
          "height": 121
        },
        "outputId": "238baa0b-8934-4e93-e9f4-c3797747fa95"
      },
      "source": [
        "print(\"Train Results for Decision Tree Regressor Model:\")\n",
        "print(50 * '-')\n",
        "print(\"Root mean squared error: \", sqrt(mse(y_train.values, y_train_pred)))\n",
        "print(\"Mean absolute % error: \", round(mean_absolute_percentage_error(y_train.values, y_train_pred)))\n",
        "print(\"R-squared: \", r2_score(y_train.values, y_train_pred))"
      ],
      "execution_count": 172,
      "outputs": [
        {
          "output_type": "stream",
          "text": [
            "Train Results for Decision Tree Regressor Model:\n",
            "--------------------------------------------------\n",
            "Root mean squared error:  5.214930068843835\n",
            "Mean absolute % error:  inf\n",
            "R-squared:  0.1648615091874962\n"
          ],
          "name": "stdout"
        },
        {
          "output_type": "stream",
          "text": [
            "/usr/local/lib/python3.6/dist-packages/ipykernel_launcher.py:17: RuntimeWarning: divide by zero encountered in true_divide\n"
          ],
          "name": "stderr"
        }
      ]
    },
    {
      "cell_type": "code",
      "metadata": {
        "id": "LHv5JAkGyDHV",
        "colab_type": "code",
        "colab": {
          "base_uri": "https://localhost:8080/",
          "height": 104
        },
        "outputId": "2f79f890-ad7d-479a-da6e-31167b6f320e"
      },
      "source": [
        "print(\"Test Results for Decision Tree Regressor Model:\")\n",
        "print(50 * '-')\n",
        "print(\"Root mean squared error: \", sqrt(mse(y_test, y_test_pred)))\n",
        "print(\"Mean absolute % error: \", round(mean_absolute_percentage_error(y_test, y_test_pred)))\n",
        "print(\"R-squared: \", r2_score(y_test, y_test_pred))"
      ],
      "execution_count": 173,
      "outputs": [
        {
          "output_type": "stream",
          "text": [
            "Test Results for Decision Tree Regressor Model:\n",
            "--------------------------------------------------\n",
            "Root mean squared error:  5.35988325144145\n",
            "Mean absolute % error:  96.0\n",
            "R-squared:  0.12798484908045193\n"
          ],
          "name": "stdout"
        }
      ]
    },
    {
      "cell_type": "code",
      "metadata": {
        "id": "psE6f3nayGms",
        "colab_type": "code",
        "colab": {
          "base_uri": "https://localhost:8080/",
          "height": 450
        },
        "outputId": "6955819d-a187-4222-c2ef-0d9772c1f9ee"
      },
      "source": [
        "tuned_params = {'n_estimators': [100, 200, 300, 400, 500], 'min_samples_split': [2, 5, 10], 'min_samples_leaf': [1, 2, 4]}\n",
        "random_regressor = RandomizedSearchCV(RandomForestRegressor(), tuned_params, n_iter = 20, scoring = 'neg_mean_absolute_error', cv = 5, n_jobs = -1)\n",
        "random_regressor.fit(x_train, y_train)"
      ],
      "execution_count": 174,
      "outputs": [
        {
          "output_type": "execute_result",
          "data": {
            "text/plain": [
              "RandomizedSearchCV(cv=5, error_score=nan,\n",
              "                   estimator=RandomForestRegressor(bootstrap=True,\n",
              "                                                   ccp_alpha=0.0,\n",
              "                                                   criterion='mse',\n",
              "                                                   max_depth=None,\n",
              "                                                   max_features='auto',\n",
              "                                                   max_leaf_nodes=None,\n",
              "                                                   max_samples=None,\n",
              "                                                   min_impurity_decrease=0.0,\n",
              "                                                   min_impurity_split=None,\n",
              "                                                   min_samples_leaf=1,\n",
              "                                                   min_samples_split=2,\n",
              "                                                   min_weight_fraction_leaf=0.0,\n",
              "                                                   n_estimators=100,\n",
              "                                                   n_jobs=None, oob_score=False,\n",
              "                                                   random_state=None, verbose=0,\n",
              "                                                   warm_start=False),\n",
              "                   iid='deprecated', n_iter=20, n_jobs=-1,\n",
              "                   param_distributions={'min_samples_leaf': [1, 2, 4],\n",
              "                                        'min_samples_split': [2, 5, 10],\n",
              "                                        'n_estimators': [100, 200, 300, 400,\n",
              "                                                         500]},\n",
              "                   pre_dispatch='2*n_jobs', random_state=None, refit=True,\n",
              "                   return_train_score=False, scoring='neg_mean_absolute_error',\n",
              "                   verbose=0)"
            ]
          },
          "metadata": {
            "tags": []
          },
          "execution_count": 174
        }
      ]
    },
    {
      "cell_type": "code",
      "metadata": {
        "id": "BoPK_uHfyLf2",
        "colab_type": "code",
        "colab": {}
      },
      "source": [
        "y_train_pred = random_regressor.predict(x_train)\n",
        "y_test_pred = random_regressor.predict(x_test)"
      ],
      "execution_count": 175,
      "outputs": []
    },
    {
      "cell_type": "code",
      "metadata": {
        "id": "WtM-AnVDysRO",
        "colab_type": "code",
        "colab": {
          "base_uri": "https://localhost:8080/",
          "height": 121
        },
        "outputId": "a0ccbea9-6304-4588-fa53-972839e71add"
      },
      "source": [
        "print(\"Train Results for Random Forest Regressor Model:\")\n",
        "print(50 * '-')\n",
        "print(\"Root mean squared error: \", sqrt(mse(y_train.values, y_train_pred)))\n",
        "print(\"Mean absolute % error: \", round(mean_absolute_percentage_error(y_train.values, y_train_pred)))\n",
        "print(\"R-squared: \", r2_score(y_train.values, y_train_pred))"
      ],
      "execution_count": 176,
      "outputs": [
        {
          "output_type": "stream",
          "text": [
            "Train Results for Random Forest Regressor Model:\n",
            "--------------------------------------------------\n",
            "Root mean squared error:  3.502233522979244\n",
            "Mean absolute % error:  inf\n",
            "R-squared:  0.6233380730491649\n"
          ],
          "name": "stdout"
        },
        {
          "output_type": "stream",
          "text": [
            "/usr/local/lib/python3.6/dist-packages/ipykernel_launcher.py:17: RuntimeWarning: divide by zero encountered in true_divide\n"
          ],
          "name": "stderr"
        }
      ]
    },
    {
      "cell_type": "code",
      "metadata": {
        "id": "G9TOY_iVyxu5",
        "colab_type": "code",
        "colab": {
          "base_uri": "https://localhost:8080/",
          "height": 104
        },
        "outputId": "15079ade-edc6-4f62-d71f-d538ced3ed3d"
      },
      "source": [
        "print(\"Test Results for Random Forest Regressor Model:\")\n",
        "print(50 * '-')\n",
        "print(\"Root mean squared error: \", sqrt(mse(y_test, y_test_pred)))\n",
        "print(\"Mean absolute % error: \", round(mean_absolute_percentage_error(y_test, y_test_pred)))\n",
        "print(\"R-squared: \", r2_score(y_test, y_test_pred))"
      ],
      "execution_count": 177,
      "outputs": [
        {
          "output_type": "stream",
          "text": [
            "Test Results for Random Forest Regressor Model:\n",
            "--------------------------------------------------\n",
            "Root mean squared error:  5.254564163652274\n",
            "Mean absolute % error:  92.0\n",
            "R-squared:  0.16191750468767874\n"
          ],
          "name": "stdout"
        }
      ]
    },
    {
      "cell_type": "code",
      "metadata": {
        "id": "ScRyJHbyy1FT",
        "colab_type": "code",
        "colab": {
          "base_uri": "https://localhost:8080/",
          "height": 450
        },
        "outputId": "98f8331c-d80d-4c54-e832-31b3c1597fca"
      },
      "source": [
        "tuned_params = {'max_depth': [1, 2, 3, 4, 5], 'learning_rate': [0.01, 0.05, 0.1], 'n_estimators': [100, 200, 300, 400, 500], 'reg_lambda': [0.001, 0.1, 1.0, 10.0, 100.0]}\n",
        "model = RandomizedSearchCV(XGBRegressor(), tuned_params, n_iter=20, scoring = 'neg_mean_absolute_error', cv=5, n_jobs=-1)\n",
        "model.fit(x_train, y_train)"
      ],
      "execution_count": 178,
      "outputs": [
        {
          "output_type": "stream",
          "text": [
            "[18:24:49] WARNING: /workspace/src/objective/regression_obj.cu:152: reg:linear is now deprecated in favor of reg:squarederror.\n"
          ],
          "name": "stdout"
        },
        {
          "output_type": "execute_result",
          "data": {
            "text/plain": [
              "RandomizedSearchCV(cv=5, error_score=nan,\n",
              "                   estimator=XGBRegressor(base_score=0.5, booster='gbtree',\n",
              "                                          colsample_bylevel=1,\n",
              "                                          colsample_bynode=1,\n",
              "                                          colsample_bytree=1, gamma=0,\n",
              "                                          importance_type='gain',\n",
              "                                          learning_rate=0.1, max_delta_step=0,\n",
              "                                          max_depth=3, min_child_weight=1,\n",
              "                                          missing=None, n_estimators=100,\n",
              "                                          n_jobs=1, nthread=None,\n",
              "                                          objective='reg:linear',\n",
              "                                          random_state=0, reg_alpha=...\n",
              "                                          seed=None, silent=None, subsample=1,\n",
              "                                          verbosity=1),\n",
              "                   iid='deprecated', n_iter=20, n_jobs=-1,\n",
              "                   param_distributions={'learning_rate': [0.01, 0.05, 0.1],\n",
              "                                        'max_depth': [1, 2, 3, 4, 5],\n",
              "                                        'n_estimators': [100, 200, 300, 400,\n",
              "                                                         500],\n",
              "                                        'reg_lambda': [0.001, 0.1, 1.0, 10.0,\n",
              "                                                       100.0]},\n",
              "                   pre_dispatch='2*n_jobs', random_state=None, refit=True,\n",
              "                   return_train_score=False, scoring='neg_mean_absolute_error',\n",
              "                   verbose=0)"
            ]
          },
          "metadata": {
            "tags": []
          },
          "execution_count": 178
        }
      ]
    },
    {
      "cell_type": "code",
      "metadata": {
        "id": "xpB46a7Ny6_B",
        "colab_type": "code",
        "colab": {}
      },
      "source": [
        "y_train_pred = model.predict(x_train)\n",
        "y_test_pred = model.predict(x_test)"
      ],
      "execution_count": 179,
      "outputs": []
    },
    {
      "cell_type": "code",
      "metadata": {
        "id": "cDW8KPKSzEfv",
        "colab_type": "code",
        "colab": {
          "base_uri": "https://localhost:8080/",
          "height": 121
        },
        "outputId": "6b52d8d8-23dd-4d86-963b-425d0ea3503c"
      },
      "source": [
        "print(\"Train Results for XGBoost Regressor Model:\")\n",
        "print(50 * '-')\n",
        "print(\"Root mean squared error: \", sqrt(mse(y_train.values, y_train_pred)))\n",
        "print(\"Mean absolute % error: \", round(mean_absolute_percentage_error(y_train.values, y_train_pred)))\n",
        "print(\"R-squared: \", r2_score(y_train.values, y_train_pred))"
      ],
      "execution_count": 180,
      "outputs": [
        {
          "output_type": "stream",
          "text": [
            "Train Results for XGBoost Regressor Model:\n",
            "--------------------------------------------------\n",
            "Root mean squared error:  2.939271319544015\n",
            "Mean absolute % error:  inf\n",
            "R-squared:  0.7346977847370144\n"
          ],
          "name": "stdout"
        },
        {
          "output_type": "stream",
          "text": [
            "/usr/local/lib/python3.6/dist-packages/ipykernel_launcher.py:17: RuntimeWarning: divide by zero encountered in true_divide\n"
          ],
          "name": "stderr"
        }
      ]
    },
    {
      "cell_type": "code",
      "metadata": {
        "id": "JipYjWs8zJN0",
        "colab_type": "code",
        "colab": {
          "base_uri": "https://localhost:8080/",
          "height": 104
        },
        "outputId": "ef27389d-a3b4-4da1-e324-b4157830e8d9"
      },
      "source": [
        "print(\"Test Results for XGBoost Regressor Model:\")\n",
        "print(50 * '-')\n",
        "print(\"Root mean squared error: \", sqrt(mse(y_test, y_test_pred)))\n",
        "print(\"Mean absolute % error: \", round(mean_absolute_percentage_error(y_test, y_test_pred)))\n",
        "print(\"R-squared: \", r2_score(y_test, y_test_pred))"
      ],
      "execution_count": 181,
      "outputs": [
        {
          "output_type": "stream",
          "text": [
            "Test Results for XGBoost Regressor Model:\n",
            "--------------------------------------------------\n",
            "Root mean squared error:  5.292424923713541\n",
            "Mean absolute % error:  87.0\n",
            "R-squared:  0.14979670718934424\n"
          ],
          "name": "stdout"
        }
      ]
    },
    {
      "cell_type": "code",
      "metadata": {
        "id": "DZl4f08Aq69s",
        "colab_type": "code",
        "colab": {
          "base_uri": "https://localhost:8080/",
          "height": 502
        },
        "outputId": "a975fca1-521f-4922-c9c4-9efabce09c05"
      },
      "source": [
        "tuned_params = {'n_estimators': [100, 200, 300, 400, 500], 'min_samples_split': [2, 5, 10], 'min_samples_leaf': [1, 2, 4]}\n",
        "gradient_boosting_regressor_model = RandomizedSearchCV(GradientBoostingRegressor(), tuned_params, n_iter = 20, scoring = 'neg_mean_absolute_error', cv = 5, n_jobs = -1)\n",
        "gradient_boosting_regressor_model.fit(x_train, y_train)"
      ],
      "execution_count": 182,
      "outputs": [
        {
          "output_type": "execute_result",
          "data": {
            "text/plain": [
              "RandomizedSearchCV(cv=5, error_score=nan,\n",
              "                   estimator=GradientBoostingRegressor(alpha=0.9, ccp_alpha=0.0,\n",
              "                                                       criterion='friedman_mse',\n",
              "                                                       init=None,\n",
              "                                                       learning_rate=0.1,\n",
              "                                                       loss='ls', max_depth=3,\n",
              "                                                       max_features=None,\n",
              "                                                       max_leaf_nodes=None,\n",
              "                                                       min_impurity_decrease=0.0,\n",
              "                                                       min_impurity_split=None,\n",
              "                                                       min_samples_leaf=1,\n",
              "                                                       min_samples_split=2,\n",
              "                                                       min_weight_fraction_leaf=0.0,\n",
              "                                                       n_estimators=100,\n",
              "                                                       n_...\n",
              "                                                       subsample=1.0,\n",
              "                                                       tol=0.0001,\n",
              "                                                       validation_fraction=0.1,\n",
              "                                                       verbose=0,\n",
              "                                                       warm_start=False),\n",
              "                   iid='deprecated', n_iter=20, n_jobs=-1,\n",
              "                   param_distributions={'min_samples_leaf': [1, 2, 4],\n",
              "                                        'min_samples_split': [2, 5, 10],\n",
              "                                        'n_estimators': [100, 200, 300, 400,\n",
              "                                                         500]},\n",
              "                   pre_dispatch='2*n_jobs', random_state=None, refit=True,\n",
              "                   return_train_score=False, scoring='neg_mean_absolute_error',\n",
              "                   verbose=0)"
            ]
          },
          "metadata": {
            "tags": []
          },
          "execution_count": 182
        }
      ]
    },
    {
      "cell_type": "code",
      "metadata": {
        "id": "6ceHii6Dudiv",
        "colab_type": "code",
        "colab": {}
      },
      "source": [
        "y_train_pred = model.predict(x_train)\n",
        "y_test_pred = model.predict(x_test)"
      ],
      "execution_count": 183,
      "outputs": []
    },
    {
      "cell_type": "code",
      "metadata": {
        "id": "bTxPop8hvDT9",
        "colab_type": "code",
        "colab": {
          "base_uri": "https://localhost:8080/",
          "height": 121
        },
        "outputId": "8225a200-1213-4fc2-de9c-0dbb0c856b06"
      },
      "source": [
        "print(\"Train Results for GradientBoostingRegressor Model:\")\n",
        "print(50 * '-')\n",
        "print(\"Root mean squared error: \", sqrt(mse(y_train.values, y_train_pred)))\n",
        "print(\"Mean absolute % error: \", round(mean_absolute_percentage_error(y_train.values, y_train_pred)))\n",
        "print(\"R-squared: \", r2_score(y_train.values, y_train_pred))"
      ],
      "execution_count": 184,
      "outputs": [
        {
          "output_type": "stream",
          "text": [
            "Train Results for GradientBoostingRegressor Model:\n",
            "--------------------------------------------------\n",
            "Root mean squared error:  2.939271319544015\n",
            "Mean absolute % error:  inf\n",
            "R-squared:  0.7346977847370144\n"
          ],
          "name": "stdout"
        },
        {
          "output_type": "stream",
          "text": [
            "/usr/local/lib/python3.6/dist-packages/ipykernel_launcher.py:17: RuntimeWarning: divide by zero encountered in true_divide\n"
          ],
          "name": "stderr"
        }
      ]
    },
    {
      "cell_type": "code",
      "metadata": {
        "id": "_sgVHsd8vUv0",
        "colab_type": "code",
        "colab": {
          "base_uri": "https://localhost:8080/",
          "height": 104
        },
        "outputId": "a27f0b13-cac9-4178-b5e5-0c013882d64d"
      },
      "source": [
        "print(\"Test Results for GradientBoostingRegressor Model:\")\n",
        "print(50 * '-')\n",
        "print(\"Root mean squared error: \", sqrt(mse(y_test, y_test_pred)))\n",
        "print(\"Mean absolute % error: \", round(mean_absolute_percentage_error(y_test, y_test_pred)))\n",
        "print(\"R-squared: \", r2_score(y_test, y_test_pred))"
      ],
      "execution_count": 185,
      "outputs": [
        {
          "output_type": "stream",
          "text": [
            "Test Results for GradientBoostingRegressor Model:\n",
            "--------------------------------------------------\n",
            "Root mean squared error:  5.292424923713541\n",
            "Mean absolute % error:  87.0\n",
            "R-squared:  0.14979670718934424\n"
          ],
          "name": "stdout"
        }
      ]
    },
    {
      "cell_type": "code",
      "metadata": {
        "id": "cR8TvPQ6GFRJ",
        "colab_type": "code",
        "colab": {
          "base_uri": "https://localhost:8080/",
          "height": 1000
        },
        "outputId": "9e017051-98ee-469d-dda3-386c13485300"
      },
      "source": [
        "from sklearn.externals import joblib\n",
        "joblib.dump(gradient_boosting_regressor_model,'PROJECT13_MODEL1.pkl')\n",
        "model1=joblib.load('PROJECT13_MODEL1.pkl')\n",
        "model1.predict(x_test)"
      ],
      "execution_count": 186,
      "outputs": [
        {
          "output_type": "stream",
          "text": [
            "/usr/local/lib/python3.6/dist-packages/sklearn/externals/joblib/__init__.py:15: FutureWarning: sklearn.externals.joblib is deprecated in 0.21 and will be removed in 0.23. Please import this functionality directly from joblib, which can be installed with: pip install joblib. If this warning is raised when loading pickled models, you may need to re-serialize those models with scikit-learn 0.21+.\n",
            "  warnings.warn(msg, category=FutureWarning)\n"
          ],
          "name": "stderr"
        },
        {
          "output_type": "execute_result",
          "data": {
            "text/plain": [
              "array([ 9.42332505, 12.07141494,  7.29756399,  7.05758927, 11.44452921,\n",
              "        9.58791201, 11.96928845,  5.60864311,  5.90721191,  8.09124206,\n",
              "       11.73096454,  4.023539  , 12.56409419,  8.9535614 , 11.64520577,\n",
              "       12.84806776, 12.15270857, 11.09728213, 15.21729284,  9.90256389,\n",
              "       15.02842428,  9.28681571,  6.66898483,  6.57203995, 10.42281922,\n",
              "       13.33904283,  8.01724927,  7.9256417 , 11.25445632,  9.41149789,\n",
              "        9.67057859,  8.92670793, 14.07824011,  5.48402572,  6.44550526,\n",
              "        8.26976153,  9.18360247, 14.02644286, 13.12140711,  6.03667215,\n",
              "        8.05462139,  6.04866753, 13.44220887, 10.498345  ,  8.39935808,\n",
              "       11.64345676,  9.59665653, 10.35275484, 11.33799101,  6.23928298,\n",
              "       10.73005729,  8.39420063,  6.05446477,  7.18136237, 13.32528267,\n",
              "       13.72284374, 11.20100473,  4.96582743, 11.2650713 ,  5.31214348,\n",
              "       11.42037252,  9.89510718, 13.97375415,  6.17308319, 12.46407621,\n",
              "        9.07066628, 11.21728902, 12.45807344, 14.07315081, 15.01840734,\n",
              "        8.14868558,  9.07991376, 13.15684315,  8.20929973, 13.89221577,\n",
              "        5.12967897,  8.39394853,  3.22910345,  8.54558692,  6.65359518,\n",
              "       11.98995258,  7.15397101,  8.27408308, 10.48788746,  5.39921212,\n",
              "       13.23108391,  7.205659  , 10.67431162,  6.36532576, 11.78625209,\n",
              "        7.58990472, 11.65688973, 11.32720273,  4.34828916,  6.7291348 ,\n",
              "       10.5674272 , 10.5868049 , 10.75747997, 10.68201181,  3.23893224,\n",
              "        4.15068733,  9.50432314,  9.87121608,  6.62695326, 14.0816776 ,\n",
              "        4.70164558, 10.28368268,  5.38030945,  8.2508883 , 14.97593132,\n",
              "        6.05331735, 12.70707835,  7.91848958, 13.56012861, 10.45642982,\n",
              "        5.88284344, 11.45147145, 11.78415191, 11.23348545,  5.56307344,\n",
              "        6.32832357,  9.93722095, 11.23402237,  2.93622797,  9.23449601,\n",
              "        4.45044757, 14.35317229, 12.04932061,  7.06563031, 12.9047534 ,\n",
              "       14.52754203, 13.76216642, 12.7939681 ,  5.11832218,  9.40400753,\n",
              "        7.15813509, 13.4428554 ,  9.26079723, 13.73861787,  8.76931343,\n",
              "        8.03266378,  8.66575311, 12.78428257,  6.37001898, 13.28812429,\n",
              "        9.79409461,  6.45034449,  7.93025186,  9.39841966, 12.63055573,\n",
              "        4.3590708 , 13.59526015, 10.86503351, 14.15662148,  5.99795723,\n",
              "        8.65262921, 11.93341781, 16.20506054,  8.60636177, 13.85935617,\n",
              "       14.18457621,  5.39511589,  5.63905711,  7.57176651,  7.31009247,\n",
              "       10.49845258,  8.64304507,  5.57336388, 11.90411957,  4.90049143,\n",
              "        6.33777755, 13.16233489,  7.43645253,  5.49929291,  8.6085111 ,\n",
              "        7.48723238,  5.52456889, 10.41934651, 11.42104654,  8.73413692,\n",
              "        8.16466726,  7.78565802, 12.48338518,  8.2357153 , 12.79287755,\n",
              "       12.13932293,  5.79319961,  7.11803065, 15.51061396,  5.83245917,\n",
              "        6.75842448, 11.93390559, 13.20804684,  9.19881911,  7.35845521,\n",
              "       15.74295421,  7.28152066,  7.26229688,  3.71374693, 11.20193995,\n",
              "        7.90563717,  6.96402115,  5.16099879, 12.6401799 ,  7.38069193,\n",
              "       12.81063322,  8.8539914 ,  9.00334506,  4.74400447, 12.6723772 ,\n",
              "       10.51213812,  4.53961669,  7.72934934, 10.40886364, 14.80273284,\n",
              "       12.68439366,  9.55352197,  6.00580711, 10.3242666 ,  7.15392376,\n",
              "       10.05330079, 14.76234465,  5.57289802, 11.95902993, 13.56585779,\n",
              "        6.04095445,  6.51559429,  6.69074969,  7.28710669,  8.78446249,\n",
              "        9.85782248, 12.24642082,  5.63905711, 13.95717254, 15.27846708,\n",
              "       14.44190271, 10.301887  ,  8.00251137,  6.79610367,  6.53888369,\n",
              "       11.19699461, 13.95425512,  7.64379759,  8.14035049,  9.67659869,\n",
              "        4.52726446,  7.60700309, 13.00952131,  8.57839326,  5.86427156,\n",
              "        5.03861871, 12.13517037, 13.10169655,  6.06453659,  6.12918671,\n",
              "       12.05393644, 10.27419311, 12.54885434, 10.70722897,  7.22886051,\n",
              "       10.99730545, 11.20240692, 11.65496246, 13.05527219, 11.61420183,\n",
              "       10.16364741,  9.13061146, 13.16734199, 13.42406789, 11.63300397,\n",
              "       10.63141595,  9.71474209, 15.33230226,  5.70135361,  8.58447704,\n",
              "       10.98788065, 10.86087211, 11.13230778, 11.34821894, 12.85184464,\n",
              "        6.09812064,  4.68982318, 14.00647145,  5.37722331, 14.35806634,\n",
              "       13.93247562,  5.1457226 , 12.97225872,  6.96264986,  9.86965562,\n",
              "        6.68820357,  5.17228632,  4.30645469,  9.12891283, 11.52259416,\n",
              "        4.7208575 ,  8.56221813, 11.73643332,  7.22520424, 15.09033566,\n",
              "       10.67883628,  7.73778993, 11.4364071 ,  6.98832542, 13.08403182,\n",
              "        8.74033012, 10.18847283, 15.63143635,  9.45531634, 12.2347159 ,\n",
              "        7.33681172, 13.37109233, 13.35646117, 13.61936788,  7.51428516,\n",
              "        7.83801467,  5.73116258,  7.65140844,  6.54371992,  6.82863892,\n",
              "        4.57341645,  2.24322306,  8.27413445, 10.0898353 , 10.73453498,\n",
              "       14.33022988,  8.84676888,  5.60320974, 14.4132879 , 11.8898244 ,\n",
              "        8.83294789, 13.00153751,  9.26309601,  8.11169282,  4.26827241,\n",
              "        9.27906597, 11.8443774 , 12.48687169, 12.22991346,  8.31264195,\n",
              "       15.45384188,  5.47582958,  9.59281758,  5.17597513,  5.74205533,\n",
              "        7.36392339, 13.49726378,  9.5249196 , 11.42565014,  7.8306285 ,\n",
              "       12.37340285, 13.7521556 , 13.39706835,  7.85711635, 10.99889181,\n",
              "       15.61041164,  9.65203247, 14.39968257, 11.47684128,  8.41475615,\n",
              "        8.02796773, 11.00117334,  5.48195656,  6.1548715 , 11.26525809,\n",
              "        6.21535371, 10.02227087, 11.4509654 , 11.6417026 ,  9.12261974,\n",
              "        9.17327249,  5.09700059, 10.9979662 , 14.12998468, 11.49742759,\n",
              "       10.77850472, 11.48865943, 10.91435489,  5.64612274,  6.71412551,\n",
              "        7.15782148,  7.47065996,  9.42220877,  3.2801211 ,  9.11854862,\n",
              "        9.67369146,  8.12554584, 13.49214131, 13.39806374, 13.45926138,\n",
              "        6.65880343, 11.45601866,  9.9704484 ,  7.92175051,  8.9657866 ,\n",
              "        8.7020842 ,  5.70500815,  3.95891679,  8.30505116, 10.64367261,\n",
              "       13.26469162,  7.01532363, 10.00097121, 12.9061197 ,  7.25832866,\n",
              "        9.34491783, 13.44956519, 11.87633327,  3.28277948,  7.19600659,\n",
              "        7.05377045, 10.39865852, 12.93916913,  6.72800811, 11.89455773,\n",
              "       10.47675733, 13.01561289, 12.06529756,  8.62835479,  7.87750241,\n",
              "        7.4928593 , 14.50795462, 13.45524449,  4.51609643, 13.80221514,\n",
              "        8.68551182,  5.96398377, 11.4693498 ,  8.28117353,  5.13573657,\n",
              "        8.20886097,  8.98667547, 10.71045221,  9.99056166,  5.90594553,\n",
              "       11.43465344, 12.38244054,  6.3926043 ,  6.35454244, 13.01415666,\n",
              "        6.78291235, 11.66173119,  4.96284254,  7.88982858,  8.28756418,\n",
              "        8.81622877, 12.09169545,  4.023539  ,  6.45192685, 10.02380041,\n",
              "        8.11343811,  6.87765155,  5.15769908,  5.82684081,  5.87028848,\n",
              "        9.90687628,  5.25168682, 10.05701976,  5.93500554,  9.42530291,\n",
              "       13.45640856,  4.97934833,  6.39782469,  5.78240745,  9.71625235,\n",
              "        9.34919978,  9.81767629,  8.25136081, 11.74810029,  7.11567219,\n",
              "       12.09373728,  7.98916928,  4.08165131,  6.49854957,  6.26922201,\n",
              "       12.21383476,  5.01508399,  7.46464341, 13.85713519, 10.50806544,\n",
              "        2.75072358, 12.1321691 ,  8.09870902, 11.10967489,  5.7101085 ,\n",
              "        6.47115429, 11.64807186, 11.33843314,  8.97266708, 12.99325224,\n",
              "       14.42924284, 10.27673048,  5.29916951, 11.56583306, 14.94907824,\n",
              "        7.17416357,  7.05380389, 12.83576599, 11.9165016 , 13.35594543,\n",
              "       11.18565206,  5.9225022 ,  8.98729644,  8.59838446,  7.3627696 ,\n",
              "        6.36465485,  7.60036107, 15.25181546,  3.98537498, 11.25720689,\n",
              "        3.56376981,  9.79851482, 11.9685757 , 10.90670074,  5.36183044,\n",
              "        5.47403474,  8.2210448 ,  6.14770239, 10.08452116,  7.19003903,\n",
              "        8.57837045,  8.37178811, 13.75010739,  9.17420092, 10.79263273,\n",
              "        4.93476652, 11.16984293,  4.21440057,  9.04815567, 10.75890629,\n",
              "       11.78649433,  3.66677714,  8.64458074, 11.07665504, 13.51085002,\n",
              "        3.32970372,  6.90339316,  8.79300893,  5.08450301,  8.58900344,\n",
              "        8.69503848,  8.85479223, 13.58391238, 11.2115998 , 12.89759455,\n",
              "       12.66319239, 16.89486901, 13.98705693,  7.54340297,  5.50170529,\n",
              "        5.97758987,  5.63966083,  7.56215055,  2.21397583,  4.92701867,\n",
              "       13.21216845, 18.69578231, 13.02245058,  7.02200994, 10.40127551,\n",
              "        4.69041857, 13.1723193 ,  3.75024401,  4.11062247,  2.96409773,\n",
              "        6.9973522 , 12.63753315,  5.9578428 ,  9.33139305, 13.19310642,\n",
              "        8.87435468,  5.62543645,  8.59097909,  8.60615078,  8.39025882,\n",
              "        9.86186696, 10.6886778 , 12.4136092 , 10.36166529,  2.80020257,\n",
              "       11.61339937, 13.83588797,  8.51833656,  5.69741577,  7.7683106 ,\n",
              "       13.76134868, 13.25529838,  9.72070112,  9.42375946, 11.60825819,\n",
              "        4.10200055, 10.89298006, 12.21422607,  8.94841662,  9.79363588,\n",
              "        8.56622764,  3.9460984 ,  6.4348341 , 11.48643097,  7.05601175,\n",
              "        7.01757841,  7.16959755,  9.29737518, 11.03484131,  6.19679162,\n",
              "        8.90284499, 13.04092484,  7.21759414, 10.83995824,  8.14228248,\n",
              "        9.94207382, 12.53016107,  8.87794188,  7.29409603, 13.99274084,\n",
              "       10.34402987,  7.97976881,  7.57623922, 13.67832302,  9.62226619,\n",
              "        0.90015886, 13.22078418,  8.58725846, 10.12974366, 11.70202206,\n",
              "       12.03780308,  4.81970986, 10.42134465, 10.44977778, 12.4321931 ,\n",
              "       12.09997318,  5.05241317,  8.52546993, 10.53452645,  8.0118777 ,\n",
              "        5.25877348,  6.33224439,  8.87071302,  7.59363216, 12.60225085,\n",
              "       13.85768704,  8.56987069,  6.39409421,  8.22613253,  8.23457823,\n",
              "       13.0845843 ,  9.0747248 , 11.99837467,  9.58329691,  5.36206477,\n",
              "       11.12170281, 11.76777334, 11.14909188, 11.30907072,  7.49316356,\n",
              "       11.13969139,  9.59530514,  8.57100977,  5.77498228,  8.71846026,\n",
              "       10.13211183,  9.96258631, 10.36378282,  9.09004212, 10.2372451 ,\n",
              "        6.06672379,  9.18151913, 14.20239272,  7.88814497,  8.36108184,\n",
              "        5.40319445, 10.5837838 ,  9.56817557, 11.56220079,  9.05299072,\n",
              "       10.63551106, 15.94723922,  9.42852155,  7.64402587,  5.19707771,\n",
              "       10.41740086, 11.86489294,  7.55992217, 13.31197265,  6.22826959,\n",
              "       12.6949866 , 11.70262684, 11.55714871, 11.38946842, 10.83186867,\n",
              "       10.69541835,  7.64411053, 13.19323661, 12.37993428, 10.02087805,\n",
              "       10.36005123,  8.28809284,  8.33368097, 10.70772093, 13.62669879,\n",
              "        9.20740971, 10.6979543 ,  7.47963987,  9.05888781, 11.8875856 ,\n",
              "       14.23968925,  8.44519709,  5.98853842,  9.82578195,  9.83857423,\n",
              "        8.48570138,  6.2259936 , 10.09129618,  8.02503058,  6.03745729,\n",
              "        5.20299653,  1.97305956,  8.32214323,  8.1004632 ,  5.4689399 ,\n",
              "        8.09324789,  6.1617028 ,  7.13350924,  6.30446094,  9.79838057,\n",
              "        9.48388156, 12.79693224,  7.6361453 ,  9.39365008, 12.47010126,\n",
              "       11.2455561 ,  5.02419404,  6.11836465,  4.41260859,  9.12940088,\n",
              "        9.0263737 ,  7.01238664, 13.2013743 ,  6.24953856, 10.47396197,\n",
              "        7.6890807 ,  6.17417323,  5.88638562,  6.99297611, 11.22310223,\n",
              "        8.52482196, 12.52288668, 10.47784046, 13.91782472,  7.74213369,\n",
              "       11.38526187, 12.12884898,  7.38197444,  6.20476103, 13.1859731 ,\n",
              "        8.55834745,  7.01925057,  8.64944451, 13.15976382,  7.62120876,\n",
              "       13.84162611,  8.68128453, 10.9784231 ,  8.82483283,  9.94256247,\n",
              "       13.44039876,  7.36063306, 12.85702771, 11.68701118,  7.99866998,\n",
              "        9.83121194,  4.21292331,  6.74461352, 12.49933453, 11.58575003,\n",
              "       12.01785015, 12.68380964,  9.41926046, 12.44940126, 10.53336769,\n",
              "       10.36968417, 10.12622514,  9.71194981, 10.49460551,  7.38510923,\n",
              "       12.46826496, 13.06320502,  2.81529601, 12.94539943,  6.22888167,\n",
              "       11.93293363, 10.22901622, 10.29099279, 13.7396109 ,  8.50066566,\n",
              "        5.97586696,  8.26780972, 11.05287444, 14.53578797,  8.78805964,\n",
              "       12.75084674,  4.95160796, 11.2316632 ,  5.45697723,  7.82614092,\n",
              "        7.61149484, 12.01481747, 11.13105702, 13.87327095, 14.24144757,\n",
              "       10.53934127,  4.84886561, 11.81354781, 13.89049597,  7.07529194,\n",
              "       10.45642982, 12.68306771,  5.56481978,  6.46094765,  9.19340738,\n",
              "       14.88513403,  6.4602438 ,  9.3064567 ,  9.78716189,  6.99734633,\n",
              "        6.47844713, 10.04540829, 13.96310579, 13.01936022,  7.42808347,\n",
              "        6.2367096 , 14.93381706,  7.82339268, 10.89151494, 13.70441866,\n",
              "        4.26132056,  8.99389451, 14.55782885,  6.37907562,  6.21250081,\n",
              "       11.44107935,  6.3847262 , 10.5525808 ,  6.16939622, 15.00611025,\n",
              "        9.50179211,  9.809217  , -0.75643921,  4.80707784, 11.70140542,\n",
              "       10.97214633,  8.21394559,  8.62269944,  8.74036529, 11.13860942,\n",
              "        7.15615176,  9.2019408 , 13.70415199,  4.32662978,  7.17167299,\n",
              "        7.98210051, 14.27501135, 10.28618042, 11.46284195, 11.47343574,\n",
              "        8.13753942, 10.23593332, 11.15619298,  4.57821292,  8.03091634,\n",
              "       12.2782608 , 11.30986691, 11.42753481,  9.32800464,  7.42481441,\n",
              "       12.34990202,  7.26373473,  8.60972438,  8.83853306, 10.5357965 ,\n",
              "       10.74720647,  7.12738054, 12.16164281, 11.12946241,  5.17387742,\n",
              "        4.82264031,  5.03860565,  3.83604615,  7.67650309, 13.0707664 ,\n",
              "       12.22456085,  7.51096868,  6.353586  , 10.47299007, 10.30992431,\n",
              "       11.93198777,  7.63659458, 13.63156402,  8.96555084, 10.72545518,\n",
              "        5.52284142, 10.82242905,  6.65231776,  9.73928544,  9.28628461,\n",
              "        8.73951443,  8.14474949,  4.6930604 ,  6.58208993, 10.60140905,\n",
              "        9.37819372, 12.74013216, 14.11689261,  6.46743284, 11.60904917,\n",
              "       11.35059681,  8.21977173,  6.89880786,  9.78360126, 10.10031226,\n",
              "        5.37108985, 13.33070645,  7.65676245,  8.7897828 ,  6.84045902,\n",
              "       13.80595346, 12.28602216,  2.92516785,  5.32199966,  8.64747089,\n",
              "        9.90200132, 12.09507713,  6.51302093, 10.89519568,  8.3005024 ,\n",
              "       11.94708245, 13.24322347,  9.65723232, 14.07583086, 10.2183422 ,\n",
              "        7.8468911 ,  5.49102995, 10.8390876 ,  8.7933185 ,  8.10956639,\n",
              "       11.61144841,  9.0273043 ,  9.17865793, 11.66023865,  9.10977936,\n",
              "        6.50131292, 12.66755788,  9.62332573, 13.21677051,  7.75194607,\n",
              "       12.9096493 , 10.80450353,  7.43363394,  7.73983099, 12.28020396,\n",
              "        7.26867898,  6.45950501,  8.85912692, 11.25968146, 13.15519397])"
            ]
          },
          "metadata": {
            "tags": []
          },
          "execution_count": 186
        }
      ]
    },
    {
      "cell_type": "markdown",
      "metadata": {
        "id": "zFpgmj66A2WE",
        "colab_type": "text"
      },
      "source": [
        "**Finding from EDA **\n",
        "* Dentist is most while Ayurved is the least frequent doctor with average fees is 100 and 500 .\n",
        "* Genral Madicine Doctors consultant fee much higher then others which is arround 950.\n",
        "\n",
        "* Fees totally depend upon Doctor's Experience up to 50years after that Experience doesn't impact on fees.\n",
        "\n",
        "*Their are not any strong correlation between columns in data sets."
      ]
    }
  ]
}